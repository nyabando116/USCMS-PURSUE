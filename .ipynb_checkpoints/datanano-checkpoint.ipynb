{
 "cells": [
  {
   "cell_type": "code",
   "execution_count": 1,
   "id": "95f46cd1-3385-4e71-9df5-955a4e28b94e",
   "metadata": {},
   "outputs": [],
   "source": [
    "# Get data file names from stock nano\n",
    "import os\n",
    "import json"
   ]
  },
  {
   "cell_type": "code",
   "execution_count": 2,
   "id": "7aab0427-bf6c-4fb3-92ca-13acb2b6b1ed",
   "metadata": {},
   "outputs": [],
   "source": [
    "def add_prefix(files):\n",
    "\n",
    "    new_files = {}\n",
    "    prefix = 'root://cmsxrootd.fnal.gov/'\n",
    "    \n",
    "    for k in files.keys():\n",
    "        print(k)\n",
    "        new_files[k] = [prefix + f for f in files[k]]\n",
    "\n",
    "    print(new_files.keys())\n",
    "    return new_files"
   ]
  },
  {
   "cell_type": "code",
   "execution_count": null,
   "id": "79feeb75-3222-4507-bf6d-72912c7be487",
   "metadata": {},
   "outputs": [],
   "source": []
  },
  {
   "cell_type": "code",
   "execution_count": 3,
   "id": "2154074f-1901-495e-a3e4-a902cd2d6c16",
   "metadata": {},
   "outputs": [
    {
     "name": "stdout",
     "output_type": "stream",
     "text": [
      "JetHT_Run2022C\n",
      "dict_keys(['JetHT_Run2022C'])\n",
      "JetHT_Run2022C 1\n"
     ]
    }
   ],
   "source": [
    "# 2022 JetHT\n",
    "filesets = {}\n",
    "\n",
    "filesets['JetHT_Run2022C'] = !dasgoclient --query=\"file dataset=/JetHT/Run2022C-22Sep2023-v1/NANOAOD\"\n",
    "\n",
    "this_file = 'infiles/2022_JetHTData.json'\n",
    "with open(this_file, 'w') as json_file:\n",
    "    json.dump(add_prefix(filesets), json_file)\n",
    "        \n",
    "for i,f in filesets.items():\n",
    "    print(i, len(f))"
   ]
  },
  {
   "cell_type": "code",
   "execution_count": 4,
   "id": "101e0e20-cdba-44b8-a243-92b7e835213d",
   "metadata": {},
   "outputs": [
    {
     "name": "stdout",
     "output_type": "stream",
     "text": [
      "JetMET_Run2022C\n",
      "JetMET_Run2022D\n",
      "JetMET_Run2022E\n",
      "JetMET_Run2022F\n",
      "JetMET_Run2022G\n",
      "dict_keys(['JetMET_Run2022C', 'JetMET_Run2022D', 'JetMET_Run2022E', 'JetMET_Run2022F', 'JetMET_Run2022G'])\n",
      "JetMET_Run2022C 1\n",
      "JetMET_Run2022D 1\n",
      "JetMET_Run2022E 1\n",
      "JetMET_Run2022F 1\n",
      "JetMET_Run2022G 1\n"
     ]
    }
   ],
   "source": [
    "# 2022 JetMET\n",
    "filesets = {}\n",
    "\n",
    "filesets['JetMET_Run2022C'] = !dasgoclient --query=\"file dataset=/JetMET/Run2022C-22Sep2023-v1/NANOAOD\"\n",
    "filesets['JetMET_Run2022D'] = !dasgoclient --query=\"file dataset=/JetMET/Run2022D-22Sep2023-v1/NANOAOD\"\n",
    "filesets['JetMET_Run2022E'] = !dasgoclient --query=\"file dataset=/JetMET/Run2022E-22Sep2023-v1/NANOAOD\"\n",
    "filesets['JetMET_Run2022F'] = !dasgoclient --query=\"file dataset=/JetMET/Run2022F-22Sep2023-v2/NANOAOD\"\n",
    "filesets['JetMET_Run2022G'] = !dasgoclient --query=\"file dataset=/JetMET/Run2022G-22Sep2023-v2/NANOAOD\"\n",
    "\n",
    "this_file = 'infiles/2022_JetMETData.json'\n",
    "with open(this_file, 'w') as json_file:\n",
    "    json.dump(add_prefix(filesets), json_file)\n",
    "        \n",
    "for i,f in filesets.items():\n",
    "    print(i, len(f))"
   ]
  },
  {
   "cell_type": "code",
   "execution_count": 5,
   "id": "0dd232e8-0c83-481a-99ba-ab48dca93c48",
   "metadata": {},
   "outputs": [
    {
     "name": "stdout",
     "output_type": "stream",
     "text": [
      "SingleMuon_Run2022C\n",
      "dict_keys(['SingleMuon_Run2022C'])\n",
      "SingleMuon_Run2022C 1\n"
     ]
    }
   ],
   "source": [
    "# 2022 SingleMuon\n",
    "filesets = {}\n",
    "\n",
    "filesets['SingleMuon_Run2022C'] = !dasgoclient --query=\"file dataset=/SingleMuon/Run2022C-22Sep2023-v1/NANOAOD\"\n",
    "\n",
    "this_file = 'infiles/2022_SingleMuonData.json'\n",
    "with open(this_file, 'w') as json_file:\n",
    "    json.dump(add_prefix(filesets), json_file)\n",
    "        \n",
    "for i,f in filesets.items():\n",
    "    print(i, len(f))"
   ]
  },
  {
   "cell_type": "code",
   "execution_count": 6,
   "id": "079cc038-e8ed-4eb4-a379-98f3df15b2aa",
   "metadata": {},
   "outputs": [
    {
     "name": "stdout",
     "output_type": "stream",
     "text": [
      "Muon_Run2022C\n",
      "Muon_Run2022D\n",
      "Muon_Run2022E\n",
      "Muon_Run2022F\n",
      "Muon_Run2022G\n",
      "dict_keys(['Muon_Run2022C', 'Muon_Run2022D', 'Muon_Run2022E', 'Muon_Run2022F', 'Muon_Run2022G'])\n",
      "Muon_Run2022C 1\n",
      "Muon_Run2022D 1\n",
      "Muon_Run2022E 1\n",
      "Muon_Run2022F 1\n",
      "Muon_Run2022G 1\n"
     ]
    }
   ],
   "source": [
    "# 2022 Muon\n",
    "filesets = {}\n",
    "\n",
    "filesets['Muon_Run2022C'] = !dasgoclient --query=\"file dataset=/Muon/Run2022C-22Sep2023-v1/NANOAOD\"\n",
    "filesets['Muon_Run2022D'] = !dasgoclient --query=\"file dataset=/Muon/Run2022D-22Sep2023-v1/NANOAOD\"\n",
    "filesets['Muon_Run2022E'] = !dasgoclient --query=\"file dataset=/Muon/Run2022E-22Sep2023-v1/NANOAOD\"\n",
    "filesets['Muon_Run2022F'] = !dasgoclient --query=\"file dataset=/Muon/Run2022F-22Sep2023-v2/NANOAOD\"\n",
    "filesets['Muon_Run2022G'] = !dasgoclient --query=\"file dataset=/Muon/Run2022G-22Sep2023-v1/NANOAOD\"\n",
    "\n",
    "this_file = 'infiles/2022_SingleMuonData.json'\n",
    "with open(this_file, 'w') as json_file:\n",
    "    json.dump(add_prefix(filesets), json_file)\n",
    "        \n",
    "for i,f in filesets.items():\n",
    "    print(i, len(f))"
   ]
  },
  {
   "cell_type": "code",
   "execution_count": 7,
   "id": "de77c452-73d8-43d3-acc5-44412c4abc45",
   "metadata": {},
   "outputs": [
    {
     "name": "stdout",
     "output_type": "stream",
     "text": [
      "JetMET0_Run2023B\n",
      "JetMET0_Run2023C\n",
      "JetMET0_Run2023D\n",
      "dict_keys(['JetMET0_Run2023B', 'JetMET0_Run2023C', 'JetMET0_Run2023D'])\n",
      "JetMET0_Run2023B 1\n",
      "JetMET0_Run2023C 1\n",
      "JetMET0_Run2023D 1\n"
     ]
    }
   ],
   "source": [
    "# 2023 JetMET0\n",
    "\n",
    "filesets = {}\n",
    "\n",
    "filesets['JetMET0_Run2023B'] = !dasgoclient --query=\"file dataset=/JetMET0/Run2023B-22Sep2023-v1/NANOAOD\"\n",
    "filesets['JetMET0_Run2023C'] = !dasgoclient --query=\"file dataset=/JetMET0/Run2023C-22Sep2023_v1-v1/NANOAOD\"\n",
    "filesets['JetMET0_Run2023D'] = !dasgoclient --query=\"file dataset=/JetMET0/Run2023D-22Sep2023_v1-v1/NANOAOD\"\n",
    "\n",
    "this_file = 'infiles/2023_JetMET0Data.json'\n",
    "with open(this_file, 'w') as json_file:\n",
    "    json.dump(add_prefix(filesets), json_file)\n",
    "        \n",
    "for i,f in filesets.items():\n",
    "    print(i, len(f))"
   ]
  },
  {
   "cell_type": "code",
   "execution_count": 8,
   "id": "956d2c79-2a7b-4e80-9c0a-a798d6d2508b",
   "metadata": {},
   "outputs": [
    {
     "name": "stdout",
     "output_type": "stream",
     "text": [
      "JetMET1_Run2023B\n",
      "JetMET1_Run2023C\n",
      "JetMET1_Run2023D\n",
      "dict_keys(['JetMET1_Run2023B', 'JetMET1_Run2023C', 'JetMET1_Run2023D'])\n",
      "JetMET1_Run2023B 1\n",
      "JetMET1_Run2023C 1\n",
      "JetMET1_Run2023D 1\n"
     ]
    }
   ],
   "source": [
    "# 2023 JetMET1\n",
    "\n",
    "filesets = {}\n",
    "\n",
    "filesets['JetMET1_Run2023B'] = !dasgoclient --query=\"file dataset=/JetMET1/Run2023B-22Sep2023-v2/NANOAOD\"\n",
    "filesets['JetMET1_Run2023C'] = !dasgoclient --query=\"file dataset=/JetMET1/Run2023C-22Sep2023_v1-v1/NANOAOD\"\n",
    "filesets['JetMET1_Run2023D'] = !dasgoclient --query=\"file dataset=/JetMET1/Run2023D-22Sep2023_v1-v1/NANOAOD\"\n",
    "\n",
    "this_file = 'infiles/2023_JetMET1Data.json'\n",
    "with open(this_file, 'w') as json_file:\n",
    "    json.dump(add_prefix(filesets), json_file)\n",
    "        \n",
    "for i,f in filesets.items():\n",
    "    print(i, len(f))"
   ]
  },
  {
   "cell_type": "code",
   "execution_count": 9,
   "id": "74f69dc3-5516-4fb4-9e68-e694c8c86ca4",
   "metadata": {},
   "outputs": [
    {
     "name": "stdout",
     "output_type": "stream",
     "text": [
      "Muon0_Run2023B\n",
      "Muon0_Run2023C\n",
      "Muon0_Run2023D\n",
      "dict_keys(['Muon0_Run2023B', 'Muon0_Run2023C', 'Muon0_Run2023D'])\n",
      "Muon0_Run2023B 1\n",
      "Muon0_Run2023C 1\n",
      "Muon0_Run2023D 1\n"
     ]
    }
   ],
   "source": [
    "# 2023 Muon0\n",
    "\n",
    "filesets = {}\n",
    "\n",
    "filesets['Muon0_Run2023B'] = !dasgoclient --query=\"file dataset=/Muon0/Run2023B-22Sep2023-v1/NANOAOD\"\n",
    "filesets['Muon0_Run2023C'] = !dasgoclient --query=\"file dataset=/Muon0/Run2023C-22Sep2023_v1-v1/NANOAOD\"\n",
    "filesets['Muon0_Run2023D'] = !dasgoclient --query=\"file dataset=/Muon0/Run2023D-22Sep2023_v1-v1/NANOAOD\"\n",
    "\n",
    "this_file = 'infiles/2023_Muon0Data.json'\n",
    "with open(this_file, 'w') as json_file:\n",
    "    json.dump(add_prefix(filesets), json_file)\n",
    "        \n",
    "for i,f in filesets.items():\n",
    "    print(i, len(f))"
   ]
  },
  {
   "cell_type": "code",
   "execution_count": 10,
   "id": "447bb639-8b6d-4fbe-ab82-f51fbb29ae62",
   "metadata": {},
   "outputs": [
    {
     "name": "stdout",
     "output_type": "stream",
     "text": [
      "Muon1_Run2023B\n",
      "Muon1_Run2023C\n",
      "Muon1_Run2023D\n",
      "dict_keys(['Muon1_Run2023B', 'Muon1_Run2023C', 'Muon1_Run2023D'])\n",
      "Muon1_Run2023B 1\n",
      "Muon1_Run2023C 1\n",
      "Muon1_Run2023D 1\n"
     ]
    }
   ],
   "source": [
    "# 2023 Muon1\n",
    "\n",
    "filesets = {}\n",
    "\n",
    "filesets['Muon1_Run2023B'] = !dasgoclient --query=\"file dataset=/Muon1/Run2023B-22Sep2023-v1/NANOAOD\"\n",
    "filesets['Muon1_Run2023C'] = !dasgoclient --query=\"file dataset=/Muon1/Run2023C-22Sep2023_v1-v1/NANOAOD\"\n",
    "filesets['Muon1_Run2023D'] = !dasgoclient --query=\"file dataset=/Muon1/Run2023D-22Sep2023_v1-v1/NANOAOD\"\n",
    "\n",
    "this_file = 'infiles/2023_Muon1Data.json'\n",
    "with open(this_file, 'w') as json_file:\n",
    "    json.dump(add_prefix(filesets), json_file)\n",
    "        \n",
    "for i,f in filesets.items():\n",
    "    print(i, len(f))"
   ]
  },
  {
   "cell_type": "code",
   "execution_count": null,
   "id": "738bbbbc-2e64-4811-9bf9-7b59d5025042",
   "metadata": {},
   "outputs": [],
   "source": []
  }
 ],
 "metadata": {
  "kernelspec": {
   "display_name": "Python 3 (ipykernel)",
   "language": "python",
   "name": "python3"
  },
  "language_info": {
   "codemirror_mode": {
    "name": "ipython",
    "version": 3
   },
   "file_extension": ".py",
   "mimetype": "text/x-python",
   "name": "python",
   "nbconvert_exporter": "python",
   "pygments_lexer": "ipython3",
   "version": "3.12.2"
  }
 },
 "nbformat": 4,
 "nbformat_minor": 5
}
