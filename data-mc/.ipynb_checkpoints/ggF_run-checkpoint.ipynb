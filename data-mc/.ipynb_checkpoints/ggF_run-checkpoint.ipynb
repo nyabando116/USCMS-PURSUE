{
 "cells": [
  {
   "cell_type": "code",
   "execution_count": 1,
   "id": "6ecec3ca",
   "metadata": {
    "tags": []
   },
   "outputs": [
    {
     "name": "stderr",
     "output_type": "stream",
     "text": [
      "/usr/local/lib/python3.10/site-packages/pandas/core/computation/expressions.py:21: UserWarning: Pandas requires version '2.8.4' or newer of 'numexpr' (version '2.7.3' currently installed).\n",
      "  from pandas.core.computation.check import NUMEXPR_INSTALLED\n"
     ]
    }
   ],
   "source": [
    "import awkward as ak\n",
    "import dask\n",
    "from distributed import performance_report\n",
    "import hist\n",
    "from hist.dask import Hist\n",
    "import json\n",
    "from coffea import processor\n",
    "from coffea.nanoevents import BaseSchema, NanoAODSchema \n",
    "from coffea.dataset_tools import apply_to_dataset, apply_to_fileset, preprocess, rucio_utils\n",
    "from coffea.dataset_tools import max_chunks, max_files, slice_chunks, slice_files\n",
    "from coffea.analysis_tools import Weights, PackedSelection\n",
    "import corrections\n",
    "import matplotlib.pyplot as plt"
   ]
  },
  {
   "cell_type": "code",
   "execution_count": 2,
   "id": "d0c5cb60-03c3-40a2-89b9-e4c9225ff2f5",
   "metadata": {
    "tags": []
   },
   "outputs": [],
   "source": [
    "class MyZPeak(processor.ProcessorABC):\n",
    "    def process(self, events):\n",
    "        dataset = events.metadata['dataset']\n",
    "        isRealData = \"genWeight\" not in events.fields\n",
    "        #sumw = 0. if isRealData else ak.sum(events.genWeight, axis=0)\n",
    "        weights = Weights(None)\n",
    "        ps = PackedSelection()\n",
    "        \n",
    "        if isRealData:\n",
    "            weights.add(\"nominal\", ak.ones_like(events.event))\n",
    "            ps.add(\"lumimask\", corrections.lumimask(events.run, events.luminosityBlock))\n",
    "        else:\n",
    "            weights.add(\"genWeight\", events.genWeight)\n",
    "            # for symmetry, we can use a trivially-true array for \"lumimask\" in MC\n",
    "            ps.add(\"lumimask\", ak.ones_like(events.event, dtype=bool))\n",
    "    \n",
    "        events[\"goodmuons\"] = events.Muon[\n",
    "            (events.Muon.pt >= 20.)\n",
    "            & events.Muon.tightId\n",
    "        ]\n",
    "        ps.add(\"ossf\", (ak.num(events.goodmuons) == 2) & (ak.sum(events.goodmuons.charge, axis=1) == 0))\n",
    "        \n",
    "        # https://twiki.cern.ch/twiki/bin/view/CMS/MuonHLT2018\n",
    "        ps.add(\"trigger\", events.HLT.Mu17_TrkIsoVVL_Mu8_TrkIsoVVL_DZ_Mass3p8)\n",
    "        \n",
    "        # add first and second muon p4 in every event together\n",
    "        sel_events = events[ps.require(lumimask=True, ossf=True, trigger=True)]\n",
    "        sel_zcand = sel_events.goodmuons[:, 0] + sel_events.goodmuons[:, 1]\n",
    "        sel_weights = weights.weight()[ps.all(\"lumimask\", \"ossf\", \"trigger\")] \n",
    "\n",
    "        cutflow = {\"lumimask\": ak.sum(ps.require(lumimask=True), axis=0),\n",
    "                   \"ossf\": ak.sum(ps.require(lumimask=True, ossf=True), axis=0),\n",
    "                   \"trigger\": ak.sum(ps.require(lumimask=True, ossf=True, trigger=True), axis=0),\n",
    "                  } \n",
    "\n",
    "        return {\n",
    "                \"sumw\": weights.weightStatistics,\n",
    "                \"cutflow\": cutflow,\n",
    "                \"mass\": (\n",
    "                    Hist.new\n",
    "                    .Reg(120, 0., 120., label=\"$m_{\\mu\\mu}$ [GeV]\")\n",
    "                    .Weight()\n",
    "                    .fill(sel_zcand.mass, weight=sel_weights)\n",
    "                )\n",
    "            }\n",
    "\n",
    "    def postprocess(self, accumulator):\n",
    "        return accumulator"
   ]
  },
  {
   "cell_type": "code",
   "execution_count": 3,
   "id": "ef8ed89c-606f-4d6b-9ee8-65fc51a39bbb",
   "metadata": {
    "tags": []
   },
   "outputs": [
    {
     "data": {
      "text/html": [
       "<div>\n",
       "    <div style=\"width: 24px; height: 24px; background-color: #e1e1e1; border: 3px solid #9D9D9D; border-radius: 5px; position: absolute;\"> </div>\n",
       "    <div style=\"margin-left: 48px;\">\n",
       "        <h3 style=\"margin-bottom: 0px;\">Client</h3>\n",
       "        <p style=\"color: #9D9D9D; margin-bottom: 0px;\">Client-edfe4c79-4846-11ef-80d9-aa299f636acf</p>\n",
       "        <table style=\"width: 100%; text-align: left;\">\n",
       "\n",
       "        <tr>\n",
       "        \n",
       "            <td style=\"text-align: left;\"><strong>Connection method:</strong> Direct</td>\n",
       "            <td style=\"text-align: left;\"></td>\n",
       "        \n",
       "        </tr>\n",
       "\n",
       "        \n",
       "            <tr>\n",
       "                <td style=\"text-align: left;\">\n",
       "                    <strong>Dashboard: </strong> <a href=\"/user/ruvarashe.nyaban@bulldogs.aamu.edu/proxy/8787/status\" target=\"_blank\">/user/ruvarashe.nyaban@bulldogs.aamu.edu/proxy/8787/status</a>\n",
       "                </td>\n",
       "                <td style=\"text-align: left;\"></td>\n",
       "            </tr>\n",
       "        \n",
       "\n",
       "        </table>\n",
       "\n",
       "        \n",
       "            <button style=\"margin-bottom: 12px;\" data-commandlinker-command=\"dask:populate-and-launch-layout\" data-commandlinker-args='{\"url\": \"/user/ruvarashe.nyaban@bulldogs.aamu.edu/proxy/8787/status\" }'>\n",
       "                Launch dashboard in JupyterLab\n",
       "            </button>\n",
       "        \n",
       "\n",
       "        \n",
       "            <details>\n",
       "            <summary style=\"margin-bottom: 20px;\"><h3 style=\"display: inline;\">Scheduler Info</h3></summary>\n",
       "            <div style=\"\">\n",
       "    <div>\n",
       "        <div style=\"width: 24px; height: 24px; background-color: #FFF7E5; border: 3px solid #FF6132; border-radius: 5px; position: absolute;\"> </div>\n",
       "        <div style=\"margin-left: 48px;\">\n",
       "            <h3 style=\"margin-bottom: 0px;\">Scheduler</h3>\n",
       "            <p style=\"color: #9D9D9D; margin-bottom: 0px;\">Scheduler-b6faf0ec-2a4d-491e-bfe2-2bf971026ab6</p>\n",
       "            <table style=\"width: 100%; text-align: left;\">\n",
       "                <tr>\n",
       "                    <td style=\"text-align: left;\">\n",
       "                        <strong>Comm:</strong> tls://192.168.121.180:8786\n",
       "                    </td>\n",
       "                    <td style=\"text-align: left;\">\n",
       "                        <strong>Workers:</strong> 0\n",
       "                    </td>\n",
       "                </tr>\n",
       "                <tr>\n",
       "                    <td style=\"text-align: left;\">\n",
       "                        <strong>Dashboard:</strong> <a href=\"/user/ruvarashe.nyaban@bulldogs.aamu.edu/proxy/8787/status\" target=\"_blank\">/user/ruvarashe.nyaban@bulldogs.aamu.edu/proxy/8787/status</a>\n",
       "                    </td>\n",
       "                    <td style=\"text-align: left;\">\n",
       "                        <strong>Total threads:</strong> 0\n",
       "                    </td>\n",
       "                </tr>\n",
       "                <tr>\n",
       "                    <td style=\"text-align: left;\">\n",
       "                        <strong>Started:</strong> 1 minute ago\n",
       "                    </td>\n",
       "                    <td style=\"text-align: left;\">\n",
       "                        <strong>Total memory:</strong> 0 B\n",
       "                    </td>\n",
       "                </tr>\n",
       "            </table>\n",
       "        </div>\n",
       "    </div>\n",
       "\n",
       "    <details style=\"margin-left: 48px;\">\n",
       "        <summary style=\"margin-bottom: 20px;\">\n",
       "            <h3 style=\"display: inline;\">Workers</h3>\n",
       "        </summary>\n",
       "\n",
       "        \n",
       "\n",
       "    </details>\n",
       "</div>\n",
       "            </details>\n",
       "        \n",
       "\n",
       "    </div>\n",
       "</div>"
      ],
      "text/plain": [
       "<Client: 'tls://192.168.121.180:8786' processes=0 threads=0, memory=0 B>"
      ]
     },
     "execution_count": 3,
     "metadata": {},
     "output_type": "execute_result"
    }
   ],
   "source": [
    "from dask.distributed import Client\n",
    "\n",
    "client = Client(\"tls://localhost:8786\")\n",
    "client"
   ]
  },
  {
   "cell_type": "code",
   "execution_count": null,
   "id": "6e4fa5b5",
   "metadata": {},
   "outputs": [],
   "source": [
    "import shutil\n",
    "shutil.make_archive(\"corrections\", \"zip\", base_dir=\"corrections\")"
   ]
  },
  {
   "cell_type": "code",
   "execution_count": null,
   "id": "5954b16e-1e8c-4280-af62-c487a2b49d69",
   "metadata": {},
   "outputs": [],
   "source": [
    "client.upload_file(\"corrections.zip\")"
   ]
  },
  {
   "cell_type": "code",
   "execution_count": null,
   "id": "1645956d-00ce-4fee-b521-8296097a5a08",
   "metadata": {
    "tags": []
   },
   "outputs": [],
   "source": [
    "with open(\"fileset.json\", \"rt\") as file:\n",
    "    initial_fileset = json.load(file)"
   ]
  },
  {
   "cell_type": "code",
   "execution_count": null,
   "id": "5fca39dc-246a-424a-8e43-4b0771d766ae",
   "metadata": {},
   "outputs": [],
   "source": [
    "preprocessed_available, preprocessed_total = preprocess(\n",
    "        initial_fileset,\n",
    "        step_size=50_000,\n",
    "        align_clusters=None,\n",
    "        skip_bad_files=True,\n",
    "        recalculate_steps=False,\n",
    "        files_per_batch=1,\n",
    "        file_exceptions=(OSError,),\n",
    "        save_form=True,\n",
    "        uproot_options={},\n",
    "        step_size_safety_factor=0.5,\n",
    "    )"
   ]
  },
  {
   "cell_type": "code",
   "execution_count": null,
   "id": "81d2939e-a443-45d1-b010-f9cf90a38400",
   "metadata": {
    "tags": []
   },
   "outputs": [],
   "source": [
    "import gzip, pickle, json\n",
    "output_file = \"scaleout_fileset\"\n",
    "with gzip.open(f\"{output_file}_available.json.gz\", \"wt\") as file:\n",
    "    json.dump(preprocessed_available, file, indent=2)\n",
    "    print(f\"Saved available fileset chunks to {output_file}_available.json.gz\")\n",
    "with gzip.open(f\"{output_file}_all.json.gz\", \"wt\") as file:\n",
    "    json.dump(preprocessed_total, file, indent=2)\n",
    "    print(f\"Saved complete fileset chunks to {output_file}_all.json.gz\")"
   ]
  },
  {
   "cell_type": "code",
   "execution_count": null,
   "id": "1d7762d7-e4d3-45ee-acda-eb816ef47e42",
   "metadata": {},
   "outputs": [],
   "source": [
    "test_preprocessed_files = max_files(preprocessed_available, 30)\n",
    "test_preprocessed = max_chunks(test_preprocessed_files, 30)"
   ]
  },
  {
   "cell_type": "code",
   "execution_count": null,
   "id": "ad9fd74e-ee15-4d10-8822-6729325d7749",
   "metadata": {},
   "outputs": [],
   "source": [
    "#small_tg, small_rep = apply_to_fileset(data_manipulation=MyZPeak(),\n",
    "                            #fileset=test_preprocessed,\n",
    "tg, rep = apply_to_fileset(data_manipulation=MyZPeak(),    \n",
    "                            fileset=test_preprocessed,\n",
    "                            schemaclass=NanoAODSchema,\n",
    "                            uproot_options={\"allow_read_errors_with_report\": (OSError, KeyError)},\n",
    "                           )"
   ]
  },
  {
   "cell_type": "markdown",
   "id": "0174d912-befa-4de5-8263-ed4f703457b9",
   "metadata": {},
   "source": [
    "## Distributed performance_report\n",
    "The dask distributed performance_report will save an html page of our dask computations,\n",
    "preserving a record of the tasks, performance profiling, and so on"
   ]
  },
  {
   "cell_type": "code",
   "execution_count": null,
   "id": "acf49610-9b33-4b24-a72f-0c42cabe3141",
   "metadata": {
    "tags": []
   },
   "outputs": [],
   "source": [
    "performance_report_name = \"scaleout_report.html\"\n",
    "with performance_report(performance_report_name, stacklevel=1, mode=None, storage_options=None):\n",
    "    result, report = dask.compute(tg, rep)"
   ]
  },
  {
   "cell_type": "markdown",
   "id": "ae858763-7cf8-45c8-8c5f-4214235b86ed",
   "metadata": {},
   "source": [
    "### Computing the luminosity scaling\n",
    "The coffea lumi_tools subpackage contains tools for calculating the lumi processed\n",
    "We'll take a simpler approach, calculating the fraction of the dataset we computed\n",
    "and scaling the known-luminosity of the 2018A run by this fraction"
   ]
  },
  {
   "cell_type": "code",
   "execution_count": null,
   "id": "cb1af3a6-1c44-4acf-b8c0-44441091332a",
   "metadata": {
    "tags": []
   },
   "outputs": [],
   "source": [
    "# Compute h\n",
    "def total_data(events):\n",
    "    isRealData = \"genWeight\" not in events.fields\n",
    "    if isRealData:\n",
    "        events = events[\n",
    "            corrections.lumimask(events.run, events.luminosityBlock)\n",
    "        ]\n",
    "        return ak.num(events, axis=0)\n",
    "    else:\n",
    "        return -1"
   ]
  },
  {
   "cell_type": "code",
   "execution_count": null,
   "id": "fd0c1e3f-4992-432c-955f-168dfe978f52",
   "metadata": {
    "tags": []
   },
   "outputs": [],
   "source": [
    "# This number should be calculated on the preprocessed_total,\n",
    "# but some of those files may be inaccessible. We rely upon most being readable\n",
    "dfd, _ = apply_to_fileset(data_manipulation=total_data,\n",
    "                                     fileset=preprocessed_available,\n",
    "                                     schemaclass=NanoAODSchema,\n",
    "                                     uproot_options={\"allow_read_errors_with_report\": (OSError, KeyError)},\n",
    "                                    )\n",
    "data_fraction_den = dfd[\"DoubleMuon2018A\"].compute()"
   ]
  },
  {
   "cell_type": "code",
   "execution_count": null,
   "id": "3be3894b-0029-45d6-98da-ed727e761e55",
   "metadata": {
    "tags": []
   },
   "outputs": [],
   "source": [
    "\n",
    "data_fraction_num = result[\"DoubleMuon2018A\"][\"cutflow\"][\"lumimask\"]\n",
    "data_fraction = data_fraction_num / data_fraction_den\n",
    "print(data_fraction)"
   ]
  },
  {
   "cell_type": "code",
   "execution_count": null,
   "id": "c89aa2b9-ac03-4d63-82de-dd1506dfe18b",
   "metadata": {
    "tags": []
   },
   "outputs": [],
   "source": [
    "data = result[\"DoubleMuon2018A\"][\"mass\"]\n",
    "\n",
    "lumi = 14.0\n",
    "xsweight = lumi * 1e3 * 6225.42 * data_fraction / result[\"ZJets2018\"][\"sumw\"][\"genWeight\"][\"sumw\"]\n",
    "sim = result[\"ZJets2018\"][\"mass\"] * xsweight"
   ]
  },
  {
   "cell_type": "code",
   "execution_count": null,
   "id": "7149f305-8505-4a9c-bb7a-cd9af31d5a34",
   "metadata": {
    "tags": []
   },
   "outputs": [],
   "source": [
    "fig, ax = plt.subplots()\n",
    "sim.plot(ax=ax, histtype=\"fill\", label=\"Z+jets\")\n",
    "data.plot(ax=ax, histtype=\"errorbar\", color=\"k\", label=\"Data\")\n",
    "ax.set_xlim(60, 120)\n",
    "ax.legend()"
   ]
  }
 ],
 "metadata": {
  "kernelspec": {
   "display_name": "Python 3 (ipykernel)",
   "language": "python",
   "name": "python3"
  },
  "language_info": {
   "codemirror_mode": {
    "name": "ipython",
    "version": 3
   },
   "file_extension": ".py",
   "mimetype": "text/x-python",
   "name": "python",
   "nbconvert_exporter": "python",
   "pygments_lexer": "ipython3",
   "version": "3.10.12"
  }
 },
 "nbformat": 4,
 "nbformat_minor": 5
}
