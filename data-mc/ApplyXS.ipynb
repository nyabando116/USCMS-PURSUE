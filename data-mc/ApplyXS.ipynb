{
 "cells": [
  {
   "cell_type": "code",
   "execution_count": 1,
   "id": "4fd563f3-262e-4525-afe4-10a63d3d341d",
   "metadata": {},
   "outputs": [],
   "source": [
    "import hist\n",
    "import json\n",
    "from coffea import util\n",
    "import numpy as np\n",
    "\n",
    "import matplotlib.pyplot as plt\n",
    "import os"
   ]
  },
  {
   "cell_type": "code",
   "execution_count": 16,
   "id": "29bf5e1b-1ef2-4f94-9f5e-22a8068be718",
   "metadata": {},
   "outputs": [],
   "source": [
    "def max_significance(h_sig, h_bkg):\n",
    "\n",
    "    sigs = h_sig.values()\n",
    "    bkgs = h_bkg.values()\n",
    "\n",
    "    cum_sigs_below = []\n",
    "    cum_bkgs_below = []\n",
    "\n",
    "    cum_sigs_above = []\n",
    "    cum_bkgs_above = []\n",
    "\n",
    "    for i in range(len(sigs)):\n",
    "        cum_sigs_below += [sum(sigs[:i])]\n",
    "        cum_bkgs_below += [sum(bkgs[:i])]\n",
    "\n",
    "        cum_sigs_above += [sum(sigs[i:])]\n",
    "        cum_bkgs_above += [sum(bkgs[i:])]\n",
    "\n",
    "    significance_below = np.nan_to_num(cum_sigs_below/np.sqrt(cum_bkgs_below))\n",
    "    significance_above = np.nan_to_num(cum_sigs_above/np.sqrt(cum_bkgs_above))\n",
    "\n",
    "    significances = np.sqrt(np.square(significance_below) + np.square(significance_above) )\n",
    "    print(significances)\n",
    "    \n",
    "    return np.nanmax(significances)"
   ]
  },
  {
   "cell_type": "code",
   "execution_count": 3,
   "id": "7c519d7f-ac45-47f6-96c7-1a5e518e1c2d",
   "metadata": {},
   "outputs": [],
   "source": [
    "with open('xsec.json') as f:\n",
    "    xs = json.load(f)\n",
    "        \n",
    "with open('pmap.json') as f:\n",
    "    pmap = json.load(f)\n",
    "\n",
    "with open('lumi.json') as f:\n",
    "    lumis = json.load(f)"
   ]
  },
  {
   "cell_type": "code",
   "execution_count": 4,
   "id": "2a1a4711-35bc-4d9a-9d65-efdcb2901ada",
   "metadata": {},
   "outputs": [],
   "source": [
    "h_ggf = util.load(\"coffea/ggF.coffea\")[0]\n",
    "#h_ggf['GluGluHToBB']"
   ]
  },
  {
   "cell_type": "code",
   "execution_count": 5,
   "id": "5db4c2cc-a002-4059-9374-ef38f8577b06",
   "metadata": {},
   "outputs": [],
   "source": [
    "for key, hist in h_ggf['GluGluHToBB'].items():\n",
    "    #print(h_ggf['GluGluHToBB'][key])\n",
    "    if key == 'sumw':\n",
    "        continue\n",
    "    h_ggf['GluGluHToBB'][key] *= xs['GluGluHToBB'] * 1000 * lumis[\"2018\"] / h_ggf['GluGluHToBB']['sumw']\n",
    "    #print(h_ggf['GluGluHToBB'][key])"
   ]
  },
  {
   "cell_type": "code",
   "execution_count": 13,
   "id": "398fc991-da32-43b5-91b8-9eaf7611dff5",
   "metadata": {},
   "outputs": [
    {
     "data": {
      "image/png": "[encoded data removed]",
      "text/plain": [
       "<Figure size 640x480 with 1 Axes>"
      ]
     },
     "metadata": {},
     "output_type": "display_data"
    }
   ],
   "source": [
    "h_qcd = {'TotalQCD':{}}\n",
    "\n",
    "qcd_slices = [\"Pt1000to1400\",\n",
    "              \"Pt1400to1800\",\n",
    "              \"Pt1800to2400\",\n",
    "              \"Pt2400to3200\",\n",
    "              \"Pt3200toInf\",\n",
    "              \"Pt300to470\",\n",
    "              \"Pt470to600\",\n",
    "              \"Pt600to800\",\n",
    "              \"Pt800to1000\"\n",
    "             ]\n",
    "\n",
    "# Loop over the histograms (they have the same names as for ggF)\n",
    "for hname in h_ggf['GluGluHToBB'].keys():\n",
    "\n",
    "    # Skip sumw because it's not a histogram\n",
    "    if hname == 'sumw':\n",
    "        continue\n",
    "\n",
    "    # Loop over all of the QCD slices\n",
    "    for s in qcd_slices:\n",
    "\n",
    "        # Read the histograms from one slice\n",
    "        h = util.load(\"coffea/QCD_\"+s+\".coffea\")[0]\n",
    "        proc = list(h.keys())[0]\n",
    "\n",
    "        h_qcd[proc] = {}\n",
    "        h_qcd[proc][hname] = h[proc][hname]\n",
    "        \n",
    "        # Scale it! Use string.replace for some funny business with the name of the pT slice\n",
    "        h_qcd[proc][hname] *= xs[proc.replace(\"Pt_\",\"PT\")] * 1000 * lumis[\"2018\"] / h[proc]['sumw']\n",
    "\n",
    "    # Add each slice to the total\n",
    "    h_qcd['TotalQCD'][hname] = sum([h_qcd[\"QCD_\" +proc.replace(\"Pt\",\"Pt_\")][hname] for proc in qcd_slices])\n",
    "\n",
    "# Sanity check: Draw the pT distribution and make sure it is smoothly falling\n",
    "h_qcd['TotalQCD']['ExampleHistogram'][{'eta':sum,'msoftdrop':sum,'n2':sum}].plot1d();\n",
    "plt.yscale('log')"
   ]
  },
  {
   "cell_type": "code",
   "execution_count": 17,
   "id": "6a85557c-5c2d-4fe5-ad18-af33d556b361",
   "metadata": {},
   "outputs": [
    {
     "name": "stderr",
     "output_type": "stream",
     "text": [
      "/tmp/ipykernel_3317648/1464255299.py:19: RuntimeWarning: invalid value encountered in divide\n",
      "  significance_below = np.nan_to_num(cum_sigs_below/np.sqrt(cum_bkgs_below))\n",
      "/tmp/ipykernel_3317648/1464255299.py:20: RuntimeWarning: invalid value encountered in divide\n",
      "  significance_above = np.nan_to_num(cum_sigs_above/np.sqrt(cum_bkgs_above))\n"
     ]
    },
    {
     "name": "stdout",
     "output_type": "stream",
     "text": [
      "[0.76718877 0.77060665 0.76765235 0.782382   0.76978837 0.76718877\n",
      " 0.76718877 0.76718877 0.76718877 0.76718877]\n"
     ]
    },
    {
     "data": {
      "image/png": "[encoded data removed]",
      "text/plain": [
       "<Figure size 640x480 with 1 Axes>"
      ]
     },
     "metadata": {},
     "output_type": "display_data"
    }
   ],
   "source": [
    "# Choose a set of parameters \n",
    "# ExampleHistogram = default, beta = 0, zcut = 0.10\n",
    "h_bkg = h_qcd['TotalQCD']['ExampleHistogram'][{'eta':sum,'msoftdrop':sum,'pt':sum}]\n",
    "h_sig = h_ggf['GluGluHToBB']['ExampleHistogram'][{'eta':sum,'msoftdrop':sum,'pt':sum}]\n",
    "\n",
    "# Get the significance\n",
    "max_significance(h_sig,h_bkg)\n",
    "\n",
    "# N2 plot:\n",
    "h_bkg.plot1d(label='QCD');\n",
    "h_sig.plot1d(label='ggF');\n",
    "\n",
    "plt.legend(frameon=False);\n",
    "plt.yscale('log')"
   ]
  },
  {
   "cell_type": "code",
   "execution_count": null,
   "id": "7db7df58-b382-436c-b0f2-208819f81417",
   "metadata": {},
   "outputs": [],
   "source": []
  }
 ],
 "metadata": {
  "kernelspec": {
   "display_name": "Python 3 (ipykernel)",
   "language": "python",
   "name": "python3"
  },
  "language_info": {
   "codemirror_mode": {
    "name": "ipython",
    "version": 3
   },
   "file_extension": ".py",
   "mimetype": "text/x-python",
   "name": "python",
   "nbconvert_exporter": "python",
   "pygments_lexer": "ipython3",
   "version": "3.12.3"
  }
 },
 "nbformat": 4,
 "nbformat_minor": 5
}
