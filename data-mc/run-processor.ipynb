{
 "cells": [
  {
   "cell_type": "code",
   "execution_count": 1,
   "id": "c5284b49",
   "metadata": {},
   "outputs": [
    {
     "name": "stderr",
     "output_type": "stream",
     "text": [
      "/uscms/home/nyabando/nobackup/miniconda3/envs/fastjet/lib/python3.12/site-packages/coffea/nanoevents/methods/candidate.py:11: FutureWarning: In version 2024.7.0 (target date: 2024-06-30 11:59:59-05:00), this will be an error.\n",
      "To raise these warnings as errors (and get stack traces to find out where they're called), run\n",
      "    import warnings\n",
      "    warnings.filterwarnings(\"error\", module=\"coffea.*\")\n",
      "after the first `import coffea` or use `@pytest.mark.filterwarnings(\"error:::coffea.*\")` in pytest.\n",
      "Issue: coffea.nanoevents.methods.vector will be removed and replaced with scikit-hep vector. Nanoevents schemas internal to coffea will be migrated. Otherwise please consider using that package!.\n",
      "  from coffea.nanoevents.methods import vector\n"
     ]
    }
   ],
   "source": [
    "%load_ext autoreload\n",
    "#from coffea import util, processor\n",
    "from msdprocessor import msdProcessor\n",
    "from coffea.nanoevents import NanoEventsFactory, BaseSchema, PFNanoAODSchema\n",
    "import json\n",
    "import distributed\n",
    "import dask\n",
    "import awkward as ak\n",
    "import hist\n",
    "import matplotlib.pyplot as plt\n",
    "import dask_awkward"
   ]
  },
  {
   "cell_type": "code",
   "execution_count": 2,
   "id": "894a0fe4",
   "metadata": {},
   "outputs": [],
   "source": [
    "fileset = \"/uscms/home/jennetd/nobackup/hbb-prod-modes/run3-triggers/data-mc/QCD_Pt470to600.root\""
   ]
  },
  {
   "cell_type": "code",
   "execution_count": 3,
   "id": "55f0addf-070e-44e0-9478-650393c60bbb",
   "metadata": {},
   "outputs": [],
   "source": [
    "events = NanoEventsFactory.from_root(\n",
    "    {fileset: \"/Events\"},\n",
    "    #permit_dask=True,\n",
    "    schemaclass=PFNanoAODSchema\n",
    ").events()"
   ]
  },
  {
   "cell_type": "code",
   "execution_count": 4,
   "id": "c25ef328-16cf-4bda-937e-adecd4e00f86",
   "metadata": {},
   "outputs": [
    {
     "data": {
      "text/plain": [
       "92000"
      ]
     },
     "execution_count": 4,
     "metadata": {},
     "output_type": "execute_result"
    }
   ],
   "source": [
    "dask_awkward.num(events, axis=0).compute()"
   ]
  },
  {
   "cell_type": "code",
   "execution_count": 5,
   "id": "f67f4afe-81ed-4986-9f9e-fd72db1fb594",
   "metadata": {},
   "outputs": [],
   "source": [
    "result = msdProcessor().process(events)"
   ]
  },
  {
   "cell_type": "code",
   "execution_count": 6,
   "id": "8f216c1f-a23c-4fd9-81bb-01293c8eb31b",
   "metadata": {},
   "outputs": [
    {
     "name": "stdout",
     "output_type": "stream",
     "text": [
      "#--------------------------------------------------------------------------\n",
      "#                         FastJet release 3.4.1\n",
      "#                 M. Cacciari, G.P. Salam and G. Soyez                  \n",
      "#     A software package for jet finding and analysis at colliders      \n",
      "#                           http://fastjet.fr                           \n",
      "#\t                                                                      \n",
      "# Please cite EPJC72(2012)1896 [arXiv:1111.6097] if you use this package\n",
      "# for scientific work and optionally PLB641(2006)57 [hep-ph/0512210].   \n",
      "#                                                                       \n",
      "# FastJet is provided without warranty under the GNU GPL v2 or higher.  \n",
      "# It uses T. Chan's closest pair algorithm, S. Fortune's Voronoi code,\n",
      "# CGAL and 3rd party plugin jet algorithms. See COPYING file for details.\n",
      "#--------------------------------------------------------------------------\n"
     ]
    }
   ],
   "source": [
    "compute=dask.compute(result)[0]"
   ]
  },
  {
   "cell_type": "code",
   "execution_count": 7,
   "id": "66005791-e49e-413b-bd48-bf561e440fab",
   "metadata": {},
   "outputs": [
    {
     "data": {
      "text/plain": [
       "Hist(\n",
       "  Regular(15, 450, 1200, name='pt', label='Jet $p_{T}$ [GeV]'),\n",
       "  Regular(12, -6, 6, name='eta', label='Jet eta'),\n",
       "  Regular(36, 0, 252, name='msoftdrop', label='Jet msoftdrop'),\n",
       "  Regular(10, 0, 1, name='n2', label='Jet n2'),\n",
       "  storage=Weight()) # Sum: WeightedSum(value=85344, variance=85344) (WeightedSum(value=87635, variance=87635) with flow)"
      ]
     },
     "execution_count": 7,
     "metadata": {},
     "output_type": "execute_result"
    }
   ],
   "source": [
    "h = compute['ExampleHistogram']\n",
    "h"
   ]
  },
  {
   "cell_type": "code",
   "execution_count": 8,
   "id": "c6de6ad1-8789-49d1-9cd3-ae5595cf5b8f",
   "metadata": {},
   "outputs": [
    {
     "name": "stdout",
     "output_type": "stream",
     "text": [
      "(Regular(15, 450, 1200, name='pt', label='Jet $p_{T}$ [GeV]'), Regular(12, -6, 6, name='eta', label='Jet eta'), Regular(36, 0, 252, name='msoftdrop', label='Jet msoftdrop'), Regular(10, 0, 1, name='n2', label='Jet n2'))\n"
     ]
    }
   ],
   "source": [
    "print(h.axes)"
   ]
  },
  {
   "cell_type": "code",
   "execution_count": 9,
   "id": "84555bdd-91b4-4197-b332-5736c18ca8a9",
   "metadata": {},
   "outputs": [
    {
     "data": {
      "text/plain": [
       "[StairsArtists(stairs=<matplotlib.patches.StepPatch object at 0x7faa94bb59a0>, errorbar=<ErrorbarContainer object of 3 artists>, legend_artist=<ErrorbarContainer object of 3 artists>)]"
      ]
     },
     "execution_count": 9,
     "metadata": {},
     "output_type": "execute_result"
    },
    {
     "data": {
      "image/png": "[encoded data removed]",
      "text/plain": [
       "<Figure size 640x480 with 1 Axes>"
      ]
     },
     "metadata": {},
     "output_type": "display_data"
    }
   ],
   "source": [
    "h[{'eta':sum, 'pt':sum, 'msoftdrop':sum}].plot1d()\n",
    "# This sums over eta and pT and draws msoftdrop"
   ]
  },
  {
   "cell_type": "code",
   "execution_count": 10,
   "id": "83c1b464-17ce-47c9-bc00-88a770f891ed",
   "metadata": {},
   "outputs": [
    {
     "ename": "ValueError",
     "evalue": "not enough values to unpack (expected 1, got 0)",
     "output_type": "error",
     "traceback": [
      "\u001b[0;31m---------------------------------------------------------------------------\u001b[0m",
      "\u001b[0;31mValueError\u001b[0m                                Traceback (most recent call last)",
      "Cell \u001b[0;32mIn[10], line 1\u001b[0m\n\u001b[0;32m----> 1\u001b[0m \u001b[43mh\u001b[49m\u001b[43m[\u001b[49m\u001b[43m{\u001b[49m\u001b[38;5;124;43m'\u001b[39;49m\u001b[38;5;124;43mmsoftdrop\u001b[39;49m\u001b[38;5;124;43m'\u001b[39;49m\u001b[43m:\u001b[49m\u001b[38;5;28;43msum\u001b[39;49m\u001b[43m,\u001b[49m\u001b[43m \u001b[49m\u001b[38;5;124;43m'\u001b[39;49m\u001b[38;5;124;43mpt\u001b[39;49m\u001b[38;5;124;43m'\u001b[39;49m\u001b[43m:\u001b[49m\u001b[38;5;28;43msum\u001b[39;49m\u001b[43m}\u001b[49m\u001b[43m]\u001b[49m\u001b[38;5;241;43m.\u001b[39;49m\u001b[43mplot1d\u001b[49m\u001b[43m(\u001b[49m\u001b[43m)\u001b[49m\n\u001b[1;32m      2\u001b[0m \u001b[38;5;66;03m# This sums over msoftdrop and pT and draws eta\u001b[39;00m\n",
      "File \u001b[0;32m~/nobackup/miniconda3/envs/fastjet/lib/python3.12/site-packages/hist/basehist.py:502\u001b[0m, in \u001b[0;36mBaseHist.plot1d\u001b[0;34m(self, ax, overlay, **kwargs)\u001b[0m\n\u001b[1;32m    500\u001b[0m     \u001b[38;5;28;01mreturn\u001b[39;00m plot\u001b[38;5;241m.\u001b[39mhistplot(\u001b[38;5;28mself\u001b[39m, ax\u001b[38;5;241m=\u001b[39max, \u001b[38;5;241m*\u001b[39m\u001b[38;5;241m*\u001b[39m_proc_kw_for_lw(kwargs))\n\u001b[1;32m    501\u001b[0m \u001b[38;5;28;01mif\u001b[39;00m overlay \u001b[38;5;129;01mis\u001b[39;00m \u001b[38;5;28;01mNone\u001b[39;00m:\n\u001b[0;32m--> 502\u001b[0m     (overlay,) \u001b[38;5;241m=\u001b[39m (i \u001b[38;5;28;01mfor\u001b[39;00m i, ax \u001b[38;5;129;01min\u001b[39;00m \u001b[38;5;28menumerate\u001b[39m(\u001b[38;5;28mself\u001b[39m\u001b[38;5;241m.\u001b[39maxes) \u001b[38;5;28;01mif\u001b[39;00m ax\u001b[38;5;241m.\u001b[39mtraits\u001b[38;5;241m.\u001b[39mdiscrete)\n\u001b[1;32m    503\u001b[0m \u001b[38;5;28;01massert\u001b[39;00m overlay \u001b[38;5;129;01mis\u001b[39;00m \u001b[38;5;129;01mnot\u001b[39;00m \u001b[38;5;28;01mNone\u001b[39;00m\n\u001b[1;32m    504\u001b[0m cat_ax \u001b[38;5;241m=\u001b[39m \u001b[38;5;28mself\u001b[39m\u001b[38;5;241m.\u001b[39maxes[overlay]\n",
      "\u001b[0;31mValueError\u001b[0m: not enough values to unpack (expected 1, got 0)"
     ]
    }
   ],
   "source": [
    "h[{'msoftdrop':sum, 'pt':sum}].plot1d()\n",
    "# This sums over msoftdrop and pT and draws eta"
   ]
  },
  {
   "cell_type": "code",
   "execution_count": null,
   "id": "723d2bce-6a8d-4bd4-b1c0-49f48a7abcbd",
   "metadata": {},
   "outputs": [],
   "source": [
    "h[{'msoftdrop':sum, 'eta':sum}].plot1d()\n",
    "# This sums over eta and msoftdrop and draws pT"
   ]
  },
  {
   "cell_type": "code",
   "execution_count": null,
   "id": "6738503e-3bb4-473d-abe7-9180af32fe79",
   "metadata": {},
   "outputs": [],
   "source": [
    "# msoftdrop_hist = h.integrate('pt').integrate('eta')"
   ]
  },
  {
   "cell_type": "code",
   "execution_count": null,
   "id": "c7d559e7-bffa-4803-8f4b-eaff0d38420d",
   "metadata": {},
   "outputs": [],
   "source": [
    "# msoftdrop_hist.plot1d(label='Jet msoftdrop')"
   ]
  },
  {
   "cell_type": "code",
   "execution_count": null,
   "id": "04c48570-f61a-420b-8be9-8dd5126aca3b",
   "metadata": {},
   "outputs": [],
   "source": [
    "h[{'pt':sum}].plot1d()\n",
    "#sum pt and plot jet eta"
   ]
  },
  {
   "cell_type": "code",
   "execution_count": null,
   "id": "ddbea62b-bb94-4fb3-b298-4262822286ea",
   "metadata": {},
   "outputs": [],
   "source": [
    "h[{'eta':sum, 'pt':sum}].plot1d()\n",
    "#sum pt and plot jet eta"
   ]
  },
  {
   "cell_type": "code",
   "execution_count": null,
   "id": "ad37a896-f17c-4421-8ae0-81fe2b2e1c04",
   "metadata": {},
   "outputs": [],
   "source": []
  },
  {
   "cell_type": "code",
   "execution_count": null,
   "id": "b4b28452-02ad-450b-8f7f-75f802c4b75b",
   "metadata": {},
   "outputs": [],
   "source": [
    "compute=dask.compute(result)"
   ]
  },
  {
   "cell_type": "code",
   "execution_count": null,
   "id": "8f822886-c14e-4ca0-a910-a09e996c739a",
   "metadata": {},
   "outputs": [],
   "source": [
    "# result['pt'].plot1d(overlay='wc')\n",
    "# plt.yscale('log')\n",
    "# #plt.ylim(1e-4, 1000)\n",
    "\n",
    "# plt.legend(ncol=3,bbox_to_anchor=(1.0,1.1));"
   ]
  },
  {
   "cell_type": "code",
   "execution_count": null,
   "id": "b3b81d1e-7ec8-4c04-8c0e-0df2ad7cf086",
   "metadata": {},
   "outputs": [],
   "source": [
    "result['pt'].plot1d(overlay='wc')\n",
    "plt.yscale('log')\n",
    "#plt.ylim(1e-4, 1000)\n",
    "\n",
    "plt.legend(ncol=3,bbox_to_anchor=(1.0,1.1));"
   ]
  },
  {
   "cell_type": "code",
   "execution_count": null,
   "id": "d034eb65-948f-42af-b004-3802986862ee",
   "metadata": {},
   "outputs": [],
   "source": [
    "#events = NanoEventsFactory.from_root(\n",
    "#   {fileset:\"Events\"},\n",
    "    #permit_dask=True,\n",
    " #   schemaclass=PFNanoAODSchema\n",
    "#).events()"
   ]
  },
  {
   "cell_type": "code",
   "execution_count": null,
   "id": "8b9c8095",
   "metadata": {},
   "outputs": [],
   "source": [
    "#autoreload forces the kernel to reload the processor to include any new changes\n",
    "%autoreload 2\n",
    "#import msdprocessor\n",
    "\n",
    "import time\n",
    "tstart = time.time()\n",
    "\n",
    "#Run Coffea code using uproot\n",
    "#output = processor.run_uproot_job(\n",
    "#    fileset,\n",
    "#    \"Events\",\n",
    "#    msdprocessor.msdprocessor(isMC=True),\n",
    "#    processor.iterative_executor,\n",
    "#    executor_args={'schema': NanoAODSchema,'workers': 4},\n",
    "#    chunksize=10000,\n",
    "#    maxchunks=1,\n",
    "#)\n",
    "\n"
   ]
  },
  {
   "cell_type": "code",
   "execution_count": null,
   "id": "61e4207c-4b62-4f9e-9fb0-59d670bbd7b0",
   "metadata": {},
   "outputs": [],
   "source": [
    "elapsed = time.time() - tstart\n",
    "print(\"Total time: %.1f seconds\"%elapsed)"
   ]
  },
  {
   "cell_type": "code",
   "execution_count": null,
   "id": "57786283-f269-4f22-a4fc-da0434ba08f3",
   "metadata": {},
   "outputs": [],
   "source": [
    "#result = msdprocessor().process(events)"
   ]
  },
  {
   "cell_type": "code",
   "execution_count": null,
   "id": "4c972ec1",
   "metadata": {},
   "outputs": [],
   "source": [
    "events['q1pt'].plot1d(overlay='wc')\n",
    "plt.yscale('log')\n",
    "#plt.ylim(1e-4, 1000)\n",
    "\n",
    "plt.legend(ncol=3,bbox_to_anchor=(1.0,1.1));"
   ]
  },
  {
   "cell_type": "code",
   "execution_count": null,
   "id": "32d267a4",
   "metadata": {},
   "outputs": [],
   "source": [
    "output['q2pt'].plot1d(overlay='wc')\n",
    "plt.yscale('log')\n",
    "#plt.ylim(1e-4, 1000)\n",
    "\n",
    "plt.legend(ncol=3,bbox_to_anchor=(1.0,1.1));"
   ]
  },
  {
   "cell_type": "code",
   "execution_count": null,
   "id": "a97d34d5",
   "metadata": {},
   "outputs": [],
   "source": [
    "output['hpt'].plot1d(overlay='wc')\n",
    "plt.yscale('log')\n",
    "#plt.ylim(1e-4, 1000)\n",
    "\n",
    "plt.legend(ncol=3,bbox_to_anchor=(1.0,1.1));"
   ]
  },
  {
   "cell_type": "code",
   "execution_count": null,
   "id": "2b28de93",
   "metadata": {},
   "outputs": [],
   "source": [
    "output['detaqq'].plot1d(overlay='wc')\n",
    "plt.yscale('log')\n",
    "#plt.ylim(1e-4, 1000)\n",
    "\n",
    "plt.legend(ncol=3,bbox_to_anchor=(1.0,1.1));"
   ]
  },
  {
   "cell_type": "code",
   "execution_count": null,
   "id": "19f4735f",
   "metadata": {},
   "outputs": [],
   "source": [
    "output['dphiqq'].plot1d(overlay='wc')\n",
    "plt.yscale('log')\n",
    "#plt.ylim(1e-4, 1000)\n",
    "\n",
    "plt.legend(ncol=3,bbox_to_anchor=(1.0,1.1));"
   ]
  },
  {
   "cell_type": "code",
   "execution_count": null,
   "id": "7aa731ea",
   "metadata": {},
   "outputs": [],
   "source": [
    "output['mqq'].plot1d(overlay='wc')\n",
    "plt.yscale('log')\n",
    "#plt.ylim(1e-4, 1000)\n",
    "\n",
    "plt.legend(ncol=3,bbox_to_anchor=(1.0,1.1));"
   ]
  },
  {
   "cell_type": "code",
   "execution_count": null,
   "id": "6145564e",
   "metadata": {},
   "outputs": [],
   "source": []
  }
 ],
 "metadata": {
  "kernelspec": {
   "display_name": "Python 3 (ipykernel)",
   "language": "python",
   "name": "python3"
  },
  "language_info": {
   "codemirror_mode": {
    "name": "ipython",
    "version": 3
   },
   "file_extension": ".py",
   "mimetype": "text/x-python",
   "name": "python",
   "nbconvert_exporter": "python",
   "pygments_lexer": "ipython3",
   "version": "3.12.3"
  }
 },
 "nbformat": 4,
 "nbformat_minor": 5
}
