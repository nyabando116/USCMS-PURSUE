{
 "cells": [
  {
   "cell_type": "code",
   "execution_count": 1,
   "id": "c5284b49",
   "metadata": {},
   "outputs": [
    {
     "name": "stderr",
     "output_type": "stream",
     "text": [
      "/uscms/home/nyabando/nobackup/miniconda3/envs/fastjet/lib/python3.12/site-packages/coffea/nanoevents/methods/candidate.py:11: FutureWarning: In version 2024.7.0 (target date: 2024-06-30 11:59:59-05:00), this will be an error.\n",
      "To raise these warnings as errors (and get stack traces to find out where they're called), run\n",
      "    import warnings\n",
      "    warnings.filterwarnings(\"error\", module=\"coffea.*\")\n",
      "after the first `import coffea` or use `@pytest.mark.filterwarnings(\"error:::coffea.*\")` in pytest.\n",
      "Issue: coffea.nanoevents.methods.vector will be removed and replaced with scikit-hep vector. Nanoevents schemas internal to coffea will be migrated. Otherwise please consider using that package!.\n",
      "  from coffea.nanoevents.methods import vector\n"
     ]
    }
   ],
   "source": [
    "%load_ext autoreload\n",
    "#from coffea import util, processor\n",
    "from msdprocessor import msdProcessor\n",
    "from coffea.nanoevents import NanoEventsFactory, BaseSchema, PFNanoAODSchema\n",
    "import json\n",
    "import distributed\n",
    "import dask\n",
    "import awkward as ak\n",
    "import hist\n",
    "import matplotlib.pyplot as plt\n",
    "import dask_awkward"
   ]
  },
  {
   "cell_type": "code",
   "execution_count": 2,
   "id": "894a0fe4",
   "metadata": {},
   "outputs": [],
   "source": [
    "fileset = \"/uscms/home/jennetd/nobackup/hbb-prod-modes/run3-triggers/data-mc/QCD_Pt470to600.root\""
   ]
  },
  {
   "cell_type": "code",
   "execution_count": 3,
   "id": "55f0addf-070e-44e0-9478-650393c60bbb",
   "metadata": {},
   "outputs": [],
   "source": [
    "events = NanoEventsFactory.from_root(\n",
    "    {fileset: \"/Events\"},\n",
    "    #permit_dask=True,\n",
    "    schemaclass=PFNanoAODSchema\n",
    ").events()"
   ]
  },
  {
   "cell_type": "code",
   "execution_count": 4,
   "id": "c25ef328-16cf-4bda-937e-adecd4e00f86",
   "metadata": {},
   "outputs": [
    {
     "data": {
      "text/plain": [
       "92000"
      ]
     },
     "execution_count": 4,
     "metadata": {},
     "output_type": "execute_result"
    }
   ],
   "source": [
    "dask_awkward.num(events, axis=0).compute()"
   ]
  },
  {
   "cell_type": "code",
   "execution_count": 5,
   "id": "f67f4afe-81ed-4986-9f9e-fd72db1fb594",
   "metadata": {},
   "outputs": [
    {
     "name": "stdout",
     "output_type": "stream",
     "text": [
      "92000\n",
      "92000\n",
      "92000\n",
      "#--------------------------------------------------------------------------\n",
      "#                         FastJet release 3.4.1\n",
      "#                 M. Cacciari, G.P. Salam and G. Soyez                  \n",
      "#     A software package for jet finding and analysis at colliders      \n",
      "#                           http://fastjet.fr                           \n",
      "#\t                                                                      \n",
      "# Please cite EPJC72(2012)1896 [arXiv:1111.6097] if you use this package\n",
      "# for scientific work and optionally PLB641(2006)57 [hep-ph/0512210].   \n",
      "#                                                                       \n",
      "# FastJet is provided without warranty under the GNU GPL v2 or higher.  \n",
      "# It uses T. Chan's closest pair algorithm, S. Fortune's Voronoi code,\n",
      "# CGAL and 3rd party plugin jet algorithms. See COPYING file for details.\n",
      "#--------------------------------------------------------------------------\n",
      "87635\n"
     ]
    }
   ],
   "source": [
    "result = msdProcessor().process(events)"
   ]
  },
  {
   "cell_type": "code",
   "execution_count": null,
   "id": "8f216c1f-a23c-4fd9-81bb-01293c8eb31b",
   "metadata": {},
   "outputs": [],
   "source": [
    "compute=dask.compute(result)[0]"
   ]
  },
  {
   "cell_type": "code",
   "execution_count": null,
   "id": "66005791-e49e-413b-bd48-bf561e440fab",
   "metadata": {},
   "outputs": [],
   "source": [
    "h = compute['ExampleHistogram']"
   ]
  },
  {
   "cell_type": "code",
   "execution_count": null,
   "id": "bb166d82-d171-414a-aaf3-0ebe03bc31bc",
   "metadata": {},
   "outputs": [],
   "source": [
    "h1 = compute['ExampleHistogram1']"
   ]
  },
  {
   "cell_type": "code",
   "execution_count": null,
   "id": "b095dab6-1a4c-4428-9c25-3e47c1beadb4",
   "metadata": {},
   "outputs": [],
   "source": [
    "h2 = compute['ExampleHistogram2']"
   ]
  },
  {
   "cell_type": "code",
   "execution_count": null,
   "id": "0ee776d2-f792-4cd3-a983-01c100958d8f",
   "metadata": {},
   "outputs": [],
   "source": [
    "h3 = compute['ExampleHistogram3']"
   ]
  },
  {
   "cell_type": "code",
   "execution_count": null,
   "id": "261709c7-d0d6-4850-a5be-9d38bfe63394",
   "metadata": {},
   "outputs": [],
   "source": [
    "h4 = compute['ExampleHistogram4']"
   ]
  },
  {
   "cell_type": "code",
   "execution_count": null,
   "id": "35cafe39-09a0-46f8-8a0e-dc7df52acbb5",
   "metadata": {},
   "outputs": [],
   "source": [
    "h5= compute['ExampleHistogram5']"
   ]
  },
  {
   "cell_type": "code",
   "execution_count": null,
   "id": "c6de6ad1-8789-49d1-9cd3-ae5595cf5b8f",
   "metadata": {},
   "outputs": [],
   "source": [
    "print(h.axes)"
   ]
  },
  {
   "cell_type": "code",
   "execution_count": null,
   "id": "70556d11-9caa-4784-a415-c40868fb1169",
   "metadata": {},
   "outputs": [],
   "source": [
    "# sum(h3[{'msoftdrop3':sum}].counts())"
   ]
  },
  {
   "cell_type": "code",
   "execution_count": null,
   "id": "e28a4169-5c89-4454-af25-21d309f521f6",
   "metadata": {},
   "outputs": [],
   "source": [
    "# sum(h3[{'msoftdrop3':sum}].counts(flow=True))"
   ]
  },
  {
   "cell_type": "code",
   "execution_count": null,
   "id": "84555bdd-91b4-4197-b332-5736c18ca8a9",
   "metadata": {},
   "outputs": [],
   "source": [
    "h[{'eta':sum, 'pt':sum, 'msoftdrop':sum}].plot1d(label=\"beta=0\")\n",
    "h1[{'msoftdrop1':sum}].plot1d(label=\"beta=1\")\n",
    "h2[{'msoftdrop2':sum}].plot1d(label=\"beta=2\")\n",
    "h3[{'msoftdrop3':sum}].plot1d(label=\"beta=-0.5\")\n",
    "\n",
    "plt.legend()\n",
    "# h[{'eta':sum, 'pt':sum, 'msoftdrop':sum}].plot1d\n",
    "# This sums over eta and pT and draws msoftdrop"
   ]
  },
  {
   "cell_type": "code",
   "execution_count": null,
   "id": "3bcfbe9a-7168-48dd-bb76-b733b31055a2",
   "metadata": {},
   "outputs": [],
   "source": [
    "h[{'eta':sum, 'pt':sum, 'n2':sum}].plot1d(label=\"beta=0\")\n",
    "h1[{'n2b':sum}].plot1d(label=\"beta=1\")\n",
    "h2[{'n2b2':sum}].plot1d(label=\"beta=2\")\n",
    "h3[{'n2b3':sum}].plot1d(label=\"beta=-0.5\")\n",
    "\n",
    "plt.legend()\n",
    "# h[{'eta':sum, 'pt':sum, 'msoftdrop':sum}].plot1d\n",
    "# This sums over eta and pT and draws msoftdrop"
   ]
  },
  {
   "cell_type": "code",
   "execution_count": null,
   "id": "83c1b464-17ce-47c9-bc00-88a770f891ed",
   "metadata": {},
   "outputs": [],
   "source": [
    "h[{'eta':sum, 'pt':sum, 'msoftdrop':sum}].plot1d(label=\"zcut=0.10\")\n",
    "h4[{'msoftdropz1':sum}].plot1d(label=\"zcut=0.05\")\n",
    "h5[{'msoftdropz2':sum}].plot1d(label=\"zcut=0.20\")\n",
    "\n",
    "plt.legend()"
   ]
  },
  {
   "cell_type": "code",
   "execution_count": null,
   "id": "824c49ce-a87c-4103-b310-ec896090946b",
   "metadata": {},
   "outputs": [],
   "source": [
    "h[{'eta':sum, 'pt':sum, 'n2':sum}].plot1d(label=\"zcut=0.10\")\n",
    "h4[{'n2z1':sum}].plot1d(label=\"zcut=0.05\")\n",
    "h5[{'n2z2':sum}].plot1d(label=\"zcut=0.20\")\n",
    "\n",
    "plt.legend()"
   ]
  },
  {
   "cell_type": "code",
   "execution_count": null,
   "id": "af01be67-2c5f-475e-b78d-498ae5050e50",
   "metadata": {},
   "outputs": [],
   "source": []
  },
  {
   "cell_type": "code",
   "execution_count": null,
   "id": "244a72a3-09a9-4ef4-bee0-bf5f64b1dc93",
   "metadata": {},
   "outputs": [],
   "source": [
    "h1[{'n2b':sum, 'n2b2':sum, 'n2b3':sum}].plot1d()\n",
    "# h1[{'n2b':sum, 'n2b3':sum, 'msoftdrop':sum, 'n2': sum}].plot1d()"
   ]
  },
  {
   "cell_type": "code",
   "execution_count": null,
   "id": "d71d4f36-2499-4f7f-92d7-e9ca418787c7",
   "metadata": {},
   "outputs": [],
   "source": [
    "h[{'eta':sum, 'pt':sum, 'msoftdrop':sum, 'n2b': sum, 'n2':sum, 'msoftdrop'}].plot1d()\n",
    "h[{'eta':sum, 'pt':sum, 'msoftdrop':sum, 'n2': sum}].plot1d()"
   ]
  },
  {
   "cell_type": "code",
   "execution_count": null,
   "id": "723d2bce-6a8d-4bd4-b1c0-49f48a7abcbd",
   "metadata": {},
   "outputs": [],
   "source": [
    "h[{'msoftdrop':sum, 'eta':sum}].plot1d()\n",
    "# This sums over eta and msoftdrop and draws pT"
   ]
  },
  {
   "cell_type": "code",
   "execution_count": null,
   "id": "b3b81d1e-7ec8-4c04-8c0e-0df2ad7cf086",
   "metadata": {},
   "outputs": [],
   "source": [
    "result['pt'].plot1d(overlay='wc')\n",
    "plt.yscale('log')\n",
    "#plt.ylim(1e-4, 1000)\n",
    "\n",
    "plt.legend(ncol=3,bbox_to_anchor=(1.0,1.1));"
   ]
  },
  {
   "cell_type": "code",
   "execution_count": null,
   "id": "61e4207c-4b62-4f9e-9fb0-59d670bbd7b0",
   "metadata": {},
   "outputs": [],
   "source": [
    "elapsed = time.time() - tstart\n",
    "print(\"Total time: %.1f seconds\"%elapsed)"
   ]
  },
  {
   "cell_type": "code",
   "execution_count": null,
   "id": "57786283-f269-4f22-a4fc-da0434ba08f3",
   "metadata": {},
   "outputs": [],
   "source": [
    "#result = msdprocessor().process(events)"
   ]
  },
  {
   "cell_type": "code",
   "execution_count": null,
   "id": "4c972ec1",
   "metadata": {},
   "outputs": [],
   "source": [
    "events['q1pt'].plot1d(overlay='wc')\n",
    "plt.yscale('log')\n",
    "#plt.ylim(1e-4, 1000)\n",
    "\n",
    "plt.legend(ncol=3,bbox_to_anchor=(1.0,1.1));"
   ]
  },
  {
   "cell_type": "code",
   "execution_count": null,
   "id": "32d267a4",
   "metadata": {},
   "outputs": [],
   "source": [
    "output['q2pt'].plot1d(overlay='wc')\n",
    "plt.yscale('log')\n",
    "#plt.ylim(1e-4, 1000)\n",
    "\n",
    "plt.legend(ncol=3,bbox_to_anchor=(1.0,1.1));"
   ]
  },
  {
   "cell_type": "code",
   "execution_count": null,
   "id": "a97d34d5",
   "metadata": {},
   "outputs": [],
   "source": [
    "output['hpt'].plot1d(overlay='wc')\n",
    "plt.yscale('log')\n",
    "#plt.ylim(1e-4, 1000)\n",
    "\n",
    "plt.legend(ncol=3,bbox_to_anchor=(1.0,1.1));"
   ]
  },
  {
   "cell_type": "code",
   "execution_count": null,
   "id": "2b28de93",
   "metadata": {},
   "outputs": [],
   "source": [
    "output['detaqq'].plot1d(overlay='wc')\n",
    "plt.yscale('log')\n",
    "#plt.ylim(1e-4, 1000)\n",
    "\n",
    "plt.legend(ncol=3,bbox_to_anchor=(1.0,1.1));"
   ]
  },
  {
   "cell_type": "code",
   "execution_count": null,
   "id": "19f4735f",
   "metadata": {},
   "outputs": [],
   "source": [
    "output['dphiqq'].plot1d(overlay='wc')\n",
    "plt.yscale('log')\n",
    "#plt.ylim(1e-4, 1000)\n",
    "\n",
    "plt.legend(ncol=3,bbox_to_anchor=(1.0,1.1));"
   ]
  },
  {
   "cell_type": "code",
   "execution_count": null,
   "id": "7aa731ea",
   "metadata": {},
   "outputs": [],
   "source": [
    "output['mqq'].plot1d(overlay='wc')\n",
    "plt.yscale('log')\n",
    "#plt.ylim(1e-4, 1000)\n",
    "\n",
    "plt.legend(ncol=3,bbox_to_anchor=(1.0,1.1));"
   ]
  },
  {
   "cell_type": "code",
   "execution_count": null,
   "id": "6145564e",
   "metadata": {},
   "outputs": [],
   "source": []
  }
 ],
 "metadata": {
  "kernelspec": {
   "display_name": "Python 3 (ipykernel)",
   "language": "python",
   "name": "python3"
  },
  "language_info": {
   "codemirror_mode": {
    "name": "ipython",
    "version": 3
   },
   "file_extension": ".py",
   "mimetype": "text/x-python",
   "name": "python",
   "nbconvert_exporter": "python",
   "pygments_lexer": "ipython3",
   "version": "3.12.3"
  }
 },
 "nbformat": 4,
 "nbformat_minor": 5
}
