{
 "cells": [
  {
   "cell_type": "code",
   "execution_count": 1,
   "id": "f9ac1932-ad03-4b2f-b5ed-80a803ba4379",
   "metadata": {},
   "outputs": [
    {
     "name": "stderr",
     "output_type": "stream",
     "text": [
      "/tmp/ipykernel_2328979/3704368154.py:14: FutureWarning: In version 2024.7.0 (target date: 2024-06-30 11:59:59-05:00), this will be an error.\n",
      "To raise these warnings as errors (and get stack traces to find out where they're called), run\n",
      "    import warnings\n",
      "    warnings.filterwarnings(\"error\", module=\"coffea.*\")\n",
      "after the first `import coffea` or use `@pytest.mark.filterwarnings(\"error:::coffea.*\")` in pytest.\n",
      "Issue: coffea.nanoevents.methods.vector will be removed and replaced with scikit-hep vector. Nanoevents schemas internal to coffea will be migrated. Otherwise please consider using that package!.\n",
      "  from coffea.nanoevents.methods import vector\n"
     ]
    }
   ],
   "source": [
    "import awkward as ak\n",
    "import dask\n",
    "import dask_awkward\n",
    "from distributed import performance_report\n",
    "import hist\n",
    "from hist.dask import Hist\n",
    "import json\n",
    "from coffea import processor\n",
    "from coffea.nanoevents import BaseSchema, PFNanoAODSchema, NanoAODSchema\n",
    "from coffea.dataset_tools import apply_to_dataset, apply_to_fileset, preprocess\n",
    "from coffea.dataset_tools import max_chunks, max_files, slice_chunks, slice_files\n",
    "from coffea.analysis_tools import Weights, PackedSelection\n",
    "import matplotlib.pyplot as plt\n",
    "from coffea.nanoevents.methods import vector\n",
    "from coffea.nanoevents import NanoEventsFactory"
   ]
  },
  {
   "cell_type": "code",
   "execution_count": 2,
   "id": "fdc5f259-5a7e-47f8-929c-f41eba1ff938",
   "metadata": {},
   "outputs": [],
   "source": [
    "import fsspec_xrootd\n",
    "import dask.multiprocessing\n",
    "import os"
   ]
  },
  {
   "cell_type": "code",
   "execution_count": 3,
   "id": "dbe9d46a-e9f6-4a43-ae5f-d604589f45cb",
   "metadata": {},
   "outputs": [],
   "source": [
    "from msdprocessor import msdProcessor"
   ]
  },
  {
   "cell_type": "code",
   "execution_count": 4,
   "id": "17e090cf-cfd9-476f-b86d-dcb733491449",
   "metadata": {},
   "outputs": [
    {
     "name": "stderr",
     "output_type": "stream",
     "text": [
      "Condor configuration not found! run the following command outside the apptainer instance\n",
      "grep -v '^include' /etc/condor/config.d/01_cmslpc_interactive > .condor_config\n",
      "File specified in CONDOR_CONFIG environment variable:\n",
      "\"/srv/.condor_config\" does not exist.\n",
      "\n",
      "Neither the environment variable CONDOR_CONFIG,\n",
      "/etc/condor/, /usr/local/etc/, nor ~condor/ contain a condor_config source.\n",
      "Either set CONDOR_CONFIG to point to a valid config source,\n",
      "or put a \"condor_config\" file in /etc/condor/ /usr/local/etc/ or ~condor/\n"
     ]
    }
   ],
   "source": [
    "from distributed import Client\n",
    "from lpcjobqueue import LPCCondorCluster\n"
   ]
  },
  {
   "cell_type": "code",
   "execution_count": 5,
   "id": "e1d76560-99ec-4b29-8319-0d2eb72c8a24",
   "metadata": {},
   "outputs": [
    {
     "data": {
      "text/html": [
       "<div>\n",
       "    <div style=\"width: 24px; height: 24px; background-color: #e1e1e1; border: 3px solid #9D9D9D; border-radius: 5px; position: absolute;\"> </div>\n",
       "    <div style=\"margin-left: 48px;\">\n",
       "        <h3 style=\"margin-bottom: 0px;\">Client</h3>\n",
       "        <p style=\"color: #9D9D9D; margin-bottom: 0px;\">Client-3e67e552-4fbc-11ef-8993-001a4aa48700</p>\n",
       "        <table style=\"width: 100%; text-align: left;\">\n",
       "\n",
       "        <tr>\n",
       "        \n",
       "            <td style=\"text-align: left;\"><strong>Connection method:</strong> Cluster object</td>\n",
       "            <td style=\"text-align: left;\"><strong>Cluster type:</strong> distributed.LocalCluster</td>\n",
       "        \n",
       "        </tr>\n",
       "\n",
       "        \n",
       "            <tr>\n",
       "                <td style=\"text-align: left;\">\n",
       "                    <strong>Dashboard: </strong> <a href=\"/proxy/8787/status\" target=\"_blank\">/proxy/8787/status</a>\n",
       "                </td>\n",
       "                <td style=\"text-align: left;\"></td>\n",
       "            </tr>\n",
       "        \n",
       "\n",
       "        </table>\n",
       "\n",
       "        \n",
       "\n",
       "        \n",
       "            <details>\n",
       "            <summary style=\"margin-bottom: 20px;\"><h3 style=\"display: inline;\">Cluster Info</h3></summary>\n",
       "            <div class=\"jp-RenderedHTMLCommon jp-RenderedHTML jp-mod-trusted jp-OutputArea-output\">\n",
       "    <div style=\"width: 24px; height: 24px; background-color: #e1e1e1; border: 3px solid #9D9D9D; border-radius: 5px; position: absolute;\">\n",
       "    </div>\n",
       "    <div style=\"margin-left: 48px;\">\n",
       "        <h3 style=\"margin-bottom: 0px; margin-top: 0px;\">LocalCluster</h3>\n",
       "        <p style=\"color: #9D9D9D; margin-bottom: 0px;\">ffd3bab7</p>\n",
       "        <table style=\"width: 100%; text-align: left;\">\n",
       "            <tr>\n",
       "                <td style=\"text-align: left;\">\n",
       "                    <strong>Dashboard:</strong> <a href=\"/proxy/8787/status\" target=\"_blank\">/proxy/8787/status</a>\n",
       "                </td>\n",
       "                <td style=\"text-align: left;\">\n",
       "                    <strong>Workers:</strong> 4\n",
       "                </td>\n",
       "            </tr>\n",
       "            <tr>\n",
       "                <td style=\"text-align: left;\">\n",
       "                    <strong>Total threads:</strong> 8\n",
       "                </td>\n",
       "                <td style=\"text-align: left;\">\n",
       "                    <strong>Total memory:</strong> 11.43 GiB\n",
       "                </td>\n",
       "            </tr>\n",
       "            \n",
       "            <tr>\n",
       "    <td style=\"text-align: left;\"><strong>Status:</strong> running</td>\n",
       "    <td style=\"text-align: left;\"><strong>Using processes:</strong> True</td>\n",
       "</tr>\n",
       "\n",
       "            \n",
       "        </table>\n",
       "\n",
       "        <details>\n",
       "            <summary style=\"margin-bottom: 20px;\">\n",
       "                <h3 style=\"display: inline;\">Scheduler Info</h3>\n",
       "            </summary>\n",
       "\n",
       "            <div style=\"\">\n",
       "    <div>\n",
       "        <div style=\"width: 24px; height: 24px; background-color: #FFF7E5; border: 3px solid #FF6132; border-radius: 5px; position: absolute;\"> </div>\n",
       "        <div style=\"margin-left: 48px;\">\n",
       "            <h3 style=\"margin-bottom: 0px;\">Scheduler</h3>\n",
       "            <p style=\"color: #9D9D9D; margin-bottom: 0px;\">Scheduler-cc37b5fc-f836-43dc-8928-c9df4c8d9d59</p>\n",
       "            <table style=\"width: 100%; text-align: left;\">\n",
       "                <tr>\n",
       "                    <td style=\"text-align: left;\">\n",
       "                        <strong>Comm:</strong> tcp://127.0.0.1:39267\n",
       "                    </td>\n",
       "                    <td style=\"text-align: left;\">\n",
       "                        <strong>Workers:</strong> 4\n",
       "                    </td>\n",
       "                </tr>\n",
       "                <tr>\n",
       "                    <td style=\"text-align: left;\">\n",
       "                        <strong>Dashboard:</strong> <a href=\"/proxy/8787/status\" target=\"_blank\">/proxy/8787/status</a>\n",
       "                    </td>\n",
       "                    <td style=\"text-align: left;\">\n",
       "                        <strong>Total threads:</strong> 8\n",
       "                    </td>\n",
       "                </tr>\n",
       "                <tr>\n",
       "                    <td style=\"text-align: left;\">\n",
       "                        <strong>Started:</strong> Just now\n",
       "                    </td>\n",
       "                    <td style=\"text-align: left;\">\n",
       "                        <strong>Total memory:</strong> 11.43 GiB\n",
       "                    </td>\n",
       "                </tr>\n",
       "            </table>\n",
       "        </div>\n",
       "    </div>\n",
       "\n",
       "    <details style=\"margin-left: 48px;\">\n",
       "        <summary style=\"margin-bottom: 20px;\">\n",
       "            <h3 style=\"display: inline;\">Workers</h3>\n",
       "        </summary>\n",
       "\n",
       "        \n",
       "        <div style=\"margin-bottom: 20px;\">\n",
       "            <div style=\"width: 24px; height: 24px; background-color: #DBF5FF; border: 3px solid #4CC9FF; border-radius: 5px; position: absolute;\"> </div>\n",
       "            <div style=\"margin-left: 48px;\">\n",
       "            <details>\n",
       "                <summary>\n",
       "                    <h4 style=\"margin-bottom: 0px; display: inline;\">Worker: 0</h4>\n",
       "                </summary>\n",
       "                <table style=\"width: 100%; text-align: left;\">\n",
       "                    <tr>\n",
       "                        <td style=\"text-align: left;\">\n",
       "                            <strong>Comm: </strong> tcp://127.0.0.1:40343\n",
       "                        </td>\n",
       "                        <td style=\"text-align: left;\">\n",
       "                            <strong>Total threads: </strong> 2\n",
       "                        </td>\n",
       "                    </tr>\n",
       "                    <tr>\n",
       "                        <td style=\"text-align: left;\">\n",
       "                            <strong>Dashboard: </strong> <a href=\"/proxy/39779/status\" target=\"_blank\">/proxy/39779/status</a>\n",
       "                        </td>\n",
       "                        <td style=\"text-align: left;\">\n",
       "                            <strong>Memory: </strong> 2.86 GiB\n",
       "                        </td>\n",
       "                    </tr>\n",
       "                    <tr>\n",
       "                        <td style=\"text-align: left;\">\n",
       "                            <strong>Nanny: </strong> tcp://127.0.0.1:38957\n",
       "                        </td>\n",
       "                        <td style=\"text-align: left;\"></td>\n",
       "                    </tr>\n",
       "                    <tr>\n",
       "                        <td colspan=\"2\" style=\"text-align: left;\">\n",
       "                            <strong>Local directory: </strong> /tmp/dask-scratch-space/worker-rjj1q76d\n",
       "                        </td>\n",
       "                    </tr>\n",
       "\n",
       "                    \n",
       "\n",
       "                    \n",
       "\n",
       "                </table>\n",
       "            </details>\n",
       "            </div>\n",
       "        </div>\n",
       "        \n",
       "        <div style=\"margin-bottom: 20px;\">\n",
       "            <div style=\"width: 24px; height: 24px; background-color: #DBF5FF; border: 3px solid #4CC9FF; border-radius: 5px; position: absolute;\"> </div>\n",
       "            <div style=\"margin-left: 48px;\">\n",
       "            <details>\n",
       "                <summary>\n",
       "                    <h4 style=\"margin-bottom: 0px; display: inline;\">Worker: 1</h4>\n",
       "                </summary>\n",
       "                <table style=\"width: 100%; text-align: left;\">\n",
       "                    <tr>\n",
       "                        <td style=\"text-align: left;\">\n",
       "                            <strong>Comm: </strong> tcp://127.0.0.1:36445\n",
       "                        </td>\n",
       "                        <td style=\"text-align: left;\">\n",
       "                            <strong>Total threads: </strong> 2\n",
       "                        </td>\n",
       "                    </tr>\n",
       "                    <tr>\n",
       "                        <td style=\"text-align: left;\">\n",
       "                            <strong>Dashboard: </strong> <a href=\"/proxy/41747/status\" target=\"_blank\">/proxy/41747/status</a>\n",
       "                        </td>\n",
       "                        <td style=\"text-align: left;\">\n",
       "                            <strong>Memory: </strong> 2.86 GiB\n",
       "                        </td>\n",
       "                    </tr>\n",
       "                    <tr>\n",
       "                        <td style=\"text-align: left;\">\n",
       "                            <strong>Nanny: </strong> tcp://127.0.0.1:39441\n",
       "                        </td>\n",
       "                        <td style=\"text-align: left;\"></td>\n",
       "                    </tr>\n",
       "                    <tr>\n",
       "                        <td colspan=\"2\" style=\"text-align: left;\">\n",
       "                            <strong>Local directory: </strong> /tmp/dask-scratch-space/worker-l7buatjw\n",
       "                        </td>\n",
       "                    </tr>\n",
       "\n",
       "                    \n",
       "\n",
       "                    \n",
       "\n",
       "                </table>\n",
       "            </details>\n",
       "            </div>\n",
       "        </div>\n",
       "        \n",
       "        <div style=\"margin-bottom: 20px;\">\n",
       "            <div style=\"width: 24px; height: 24px; background-color: #DBF5FF; border: 3px solid #4CC9FF; border-radius: 5px; position: absolute;\"> </div>\n",
       "            <div style=\"margin-left: 48px;\">\n",
       "            <details>\n",
       "                <summary>\n",
       "                    <h4 style=\"margin-bottom: 0px; display: inline;\">Worker: 2</h4>\n",
       "                </summary>\n",
       "                <table style=\"width: 100%; text-align: left;\">\n",
       "                    <tr>\n",
       "                        <td style=\"text-align: left;\">\n",
       "                            <strong>Comm: </strong> tcp://127.0.0.1:45559\n",
       "                        </td>\n",
       "                        <td style=\"text-align: left;\">\n",
       "                            <strong>Total threads: </strong> 2\n",
       "                        </td>\n",
       "                    </tr>\n",
       "                    <tr>\n",
       "                        <td style=\"text-align: left;\">\n",
       "                            <strong>Dashboard: </strong> <a href=\"/proxy/33969/status\" target=\"_blank\">/proxy/33969/status</a>\n",
       "                        </td>\n",
       "                        <td style=\"text-align: left;\">\n",
       "                            <strong>Memory: </strong> 2.86 GiB\n",
       "                        </td>\n",
       "                    </tr>\n",
       "                    <tr>\n",
       "                        <td style=\"text-align: left;\">\n",
       "                            <strong>Nanny: </strong> tcp://127.0.0.1:45097\n",
       "                        </td>\n",
       "                        <td style=\"text-align: left;\"></td>\n",
       "                    </tr>\n",
       "                    <tr>\n",
       "                        <td colspan=\"2\" style=\"text-align: left;\">\n",
       "                            <strong>Local directory: </strong> /tmp/dask-scratch-space/worker-vv6q037g\n",
       "                        </td>\n",
       "                    </tr>\n",
       "\n",
       "                    \n",
       "\n",
       "                    \n",
       "\n",
       "                </table>\n",
       "            </details>\n",
       "            </div>\n",
       "        </div>\n",
       "        \n",
       "        <div style=\"margin-bottom: 20px;\">\n",
       "            <div style=\"width: 24px; height: 24px; background-color: #DBF5FF; border: 3px solid #4CC9FF; border-radius: 5px; position: absolute;\"> </div>\n",
       "            <div style=\"margin-left: 48px;\">\n",
       "            <details>\n",
       "                <summary>\n",
       "                    <h4 style=\"margin-bottom: 0px; display: inline;\">Worker: 3</h4>\n",
       "                </summary>\n",
       "                <table style=\"width: 100%; text-align: left;\">\n",
       "                    <tr>\n",
       "                        <td style=\"text-align: left;\">\n",
       "                            <strong>Comm: </strong> tcp://127.0.0.1:43787\n",
       "                        </td>\n",
       "                        <td style=\"text-align: left;\">\n",
       "                            <strong>Total threads: </strong> 2\n",
       "                        </td>\n",
       "                    </tr>\n",
       "                    <tr>\n",
       "                        <td style=\"text-align: left;\">\n",
       "                            <strong>Dashboard: </strong> <a href=\"/proxy/45979/status\" target=\"_blank\">/proxy/45979/status</a>\n",
       "                        </td>\n",
       "                        <td style=\"text-align: left;\">\n",
       "                            <strong>Memory: </strong> 2.86 GiB\n",
       "                        </td>\n",
       "                    </tr>\n",
       "                    <tr>\n",
       "                        <td style=\"text-align: left;\">\n",
       "                            <strong>Nanny: </strong> tcp://127.0.0.1:42517\n",
       "                        </td>\n",
       "                        <td style=\"text-align: left;\"></td>\n",
       "                    </tr>\n",
       "                    <tr>\n",
       "                        <td colspan=\"2\" style=\"text-align: left;\">\n",
       "                            <strong>Local directory: </strong> /tmp/dask-scratch-space/worker-0szz8ybg\n",
       "                        </td>\n",
       "                    </tr>\n",
       "\n",
       "                    \n",
       "\n",
       "                    \n",
       "\n",
       "                </table>\n",
       "            </details>\n",
       "            </div>\n",
       "        </div>\n",
       "        \n",
       "\n",
       "    </details>\n",
       "</div>\n",
       "\n",
       "        </details>\n",
       "    </div>\n",
       "</div>\n",
       "            </details>\n",
       "        \n",
       "\n",
       "    </div>\n",
       "</div>"
      ],
      "text/plain": [
       "<Client: 'tcp://127.0.0.1:39267' processes=4 threads=8, memory=11.43 GiB>"
      ]
     },
     "execution_count": 5,
     "metadata": {},
     "output_type": "execute_result"
    }
   ],
   "source": [
    "client= Client()\n",
    "client"
   ]
  },
  {
   "cell_type": "code",
   "execution_count": 6,
   "id": "df344aab-d021-4b46-adbc-ec73230e0374",
   "metadata": {},
   "outputs": [],
   "source": [
    "# with open(\"2018_QCD_Pt1000to1400.json\", \"rt\") as file:\n",
    "#     initial_fileset = json.load(file)"
   ]
  },
  {
   "cell_type": "code",
   "execution_count": 7,
   "id": "1763258b-bb12-4b99-bf20-e17d0927d5c8",
   "metadata": {},
   "outputs": [],
   "source": [
    "qcd_slice = \"Pt3200toInf\""
   ]
  },
  {
   "cell_type": "code",
   "execution_count": 8,
   "id": "985bc920-35ed-4561-a201-446925680d3d",
   "metadata": {},
   "outputs": [],
   "source": [
    "with open(\"QCDcuts/QCD_\"+qcd_slice+\".json\", \"rt\") as file:\n",
    "    initial_fileset = json.load(file)"
   ]
  },
  {
   "cell_type": "code",
   "execution_count": 9,
   "id": "f6faeea5-5562-486a-b701-7aba8232cbd1",
   "metadata": {
    "scrolled": true
   },
   "outputs": [
    {
     "name": "stdout",
     "output_type": "stream",
     "text": [
      "this is i QCD_Pt_3200toInf\n",
      "this is k root://cmsxrootd.fnal.gov//store/user/lpcpfnano/jekrupa/v2_2/2018/QCD/QCD_Pt_3200toInf_TuneCP5_13TeV_pythia8/QCD_Pt_3200toInf/211111_021344/0000/nano_mc2018_1-1.root\n",
      "this is k root://cmsxrootd.fnal.gov//store/user/lpcpfnano/jekrupa/v2_2/2018/QCD/QCD_Pt_3200toInf_TuneCP5_13TeV_pythia8/QCD_Pt_3200toInf/211111_021344/0000/nano_mc2018_1-2.root\n",
      "this is k root://cmsxrootd.fnal.gov//store/user/lpcpfnano/jekrupa/v2_2/2018/QCD/QCD_Pt_3200toInf_TuneCP5_13TeV_pythia8/QCD_Pt_3200toInf/211111_021344/0000/nano_mc2018_1-3.root\n",
      "this is k root://cmsxrootd.fnal.gov//store/user/lpcpfnano/jekrupa/v2_2/2018/QCD/QCD_Pt_3200toInf_TuneCP5_13TeV_pythia8/QCD_Pt_3200toInf/211111_021344/0000/nano_mc2018_1-4.root\n",
      "this is k root://cmsxrootd.fnal.gov//store/user/lpcpfnano/jekrupa/v2_2/2018/QCD/QCD_Pt_3200toInf_TuneCP5_13TeV_pythia8/QCD_Pt_3200toInf/211111_021344/0000/nano_mc2018_1-5.root\n",
      "this is k root://cmsxrootd.fnal.gov//store/user/lpcpfnano/jekrupa/v2_2/2018/QCD/QCD_Pt_3200toInf_TuneCP5_13TeV_pythia8/QCD_Pt_3200toInf/211111_021344/0000/nano_mc2018_1.root\n",
      "this is k root://cmsxrootd.fnal.gov//store/user/lpcpfnano/jekrupa/v2_2/2018/QCD/QCD_Pt_3200toInf_TuneCP5_13TeV_pythia8/QCD_Pt_3200toInf/211111_021344/0000/nano_mc2018_10.root\n",
      "this is k root://cmsxrootd.fnal.gov//store/user/lpcpfnano/jekrupa/v2_2/2018/QCD/QCD_Pt_3200toInf_TuneCP5_13TeV_pythia8/QCD_Pt_3200toInf/211111_021344/0000/nano_mc2018_11.root\n",
      "this is k root://cmsxrootd.fnal.gov//store/user/lpcpfnano/jekrupa/v2_2/2018/QCD/QCD_Pt_3200toInf_TuneCP5_13TeV_pythia8/QCD_Pt_3200toInf/211111_021344/0000/nano_mc2018_12.root\n",
      "this is k root://cmsxrootd.fnal.gov//store/user/lpcpfnano/jekrupa/v2_2/2018/QCD/QCD_Pt_3200toInf_TuneCP5_13TeV_pythia8/QCD_Pt_3200toInf/211111_021344/0000/nano_mc2018_13.root\n",
      "this is k root://cmsxrootd.fnal.gov//store/user/lpcpfnano/jekrupa/v2_2/2018/QCD/QCD_Pt_3200toInf_TuneCP5_13TeV_pythia8/QCD_Pt_3200toInf/211111_021344/0000/nano_mc2018_14.root\n",
      "this is k root://cmsxrootd.fnal.gov//store/user/lpcpfnano/jekrupa/v2_2/2018/QCD/QCD_Pt_3200toInf_TuneCP5_13TeV_pythia8/QCD_Pt_3200toInf/211111_021344/0000/nano_mc2018_15.root\n",
      "this is k root://cmsxrootd.fnal.gov//store/user/lpcpfnano/jekrupa/v2_2/2018/QCD/QCD_Pt_3200toInf_TuneCP5_13TeV_pythia8/QCD_Pt_3200toInf/211111_021344/0000/nano_mc2018_16.root\n",
      "this is k root://cmsxrootd.fnal.gov//store/user/lpcpfnano/jekrupa/v2_2/2018/QCD/QCD_Pt_3200toInf_TuneCP5_13TeV_pythia8/QCD_Pt_3200toInf/211111_021344/0000/nano_mc2018_17.root\n",
      "this is k root://cmsxrootd.fnal.gov//store/user/lpcpfnano/jekrupa/v2_2/2018/QCD/QCD_Pt_3200toInf_TuneCP5_13TeV_pythia8/QCD_Pt_3200toInf/211111_021344/0000/nano_mc2018_18.root\n",
      "this is k root://cmsxrootd.fnal.gov//store/user/lpcpfnano/jekrupa/v2_2/2018/QCD/QCD_Pt_3200toInf_TuneCP5_13TeV_pythia8/QCD_Pt_3200toInf/211111_021344/0000/nano_mc2018_19.root\n",
      "this is k root://cmsxrootd.fnal.gov//store/user/lpcpfnano/jekrupa/v2_2/2018/QCD/QCD_Pt_3200toInf_TuneCP5_13TeV_pythia8/QCD_Pt_3200toInf/211111_021344/0000/nano_mc2018_2.root\n",
      "this is k root://cmsxrootd.fnal.gov//store/user/lpcpfnano/jekrupa/v2_2/2018/QCD/QCD_Pt_3200toInf_TuneCP5_13TeV_pythia8/QCD_Pt_3200toInf/211111_021344/0000/nano_mc2018_3.root\n",
      "this is k root://cmsxrootd.fnal.gov//store/user/lpcpfnano/jekrupa/v2_2/2018/QCD/QCD_Pt_3200toInf_TuneCP5_13TeV_pythia8/QCD_Pt_3200toInf/211111_021344/0000/nano_mc2018_5.root\n",
      "this is k root://cmsxrootd.fnal.gov//store/user/lpcpfnano/jekrupa/v2_2/2018/QCD/QCD_Pt_3200toInf_TuneCP5_13TeV_pythia8/QCD_Pt_3200toInf/211111_021344/0000/nano_mc2018_6.root\n",
      "this is k root://cmsxrootd.fnal.gov//store/user/lpcpfnano/jekrupa/v2_2/2018/QCD/QCD_Pt_3200toInf_TuneCP5_13TeV_pythia8/QCD_Pt_3200toInf/211111_021344/0000/nano_mc2018_7.root\n",
      "this is k root://cmsxrootd.fnal.gov//store/user/lpcpfnano/jekrupa/v2_2/2018/QCD/QCD_Pt_3200toInf_TuneCP5_13TeV_pythia8/QCD_Pt_3200toInf/211111_021344/0000/nano_mc2018_8.root\n",
      "this is k root://cmsxrootd.fnal.gov//store/user/lpcpfnano/jekrupa/v2_2/2018/QCD/QCD_Pt_3200toInf_TuneCP5_13TeV_pythia8/QCD_Pt_3200toInf/211111_021344/0000/nano_mc2018_9.root\n"
     ]
    }
   ],
   "source": [
    "files={}\n",
    "for i, j in initial_fileset.items():\n",
    "    print(f\"this is i {i}\")\n",
    "    files[i]={\"files\":{}}\n",
    "    for k in j:\n",
    "        # k = k.replace(\"cmsxrootd.fnal.gov\", \"xcache\")\n",
    "        files[i][\"files\"][k] = \"Events\"\n",
    "        print(f\"this is k {k}\")\n",
    "    "
   ]
  },
  {
   "cell_type": "code",
   "execution_count": 10,
   "id": "fbb02c58-3184-4869-9b15-44a7ab1df1bd",
   "metadata": {
    "scrolled": true
   },
   "outputs": [],
   "source": [
    "preprocessed_available, preprocessed_total = preprocess(\n",
    "        files,\n",
    "        step_size=50_000,\n",
    "        align_clusters=None,\n",
    "        skip_bad_files=True,\n",
    "        recalculate_steps=False,\n",
    "        files_per_batch=1,\n",
    "        file_exceptions=(OSError,),\n",
    "        save_form=True,\n",
    "        uproot_options={},\n",
    "        step_size_safety_factor=0.5,\n",
    "    )"
   ]
  },
  {
   "cell_type": "code",
   "execution_count": 11,
   "id": "7ae7be5e-7737-4a54-93bc-d5148d887714",
   "metadata": {
    "scrolled": true
   },
   "outputs": [
    {
     "name": "stdout",
     "output_type": "stream",
     "text": [
      "dict_keys(['QCD_Pt_3200toInf'])\n"
     ]
    }
   ],
   "source": [
    "print(preprocessed_available.keys())"
   ]
  },
  {
   "cell_type": "code",
   "execution_count": 12,
   "id": "39c8c528-70ac-4516-8f5c-d61f7931c255",
   "metadata": {},
   "outputs": [
    {
     "name": "stdout",
     "output_type": "stream",
     "text": [
      "Saved available fileset chunks to scaleout_fileset_available.json.gz\n",
      "Saved complete fileset chunks to scaleout_fileset_all.json.gz\n"
     ]
    }
   ],
   "source": [
    "import gzip, pickle, json\n",
    "output_file = \"scaleout_fileset\"\n",
    "with gzip.open(f\"{output_file}_available.json.gz\", \"wt\") as file:\n",
    "    json.dump(preprocessed_available, file, indent=2)\n",
    "    print(f\"Saved available fileset chunks to {output_file}_available.json.gz\")\n",
    "with gzip.open(f\"{output_file}_all.json.gz\", \"wt\") as file:\n",
    "    json.dump(preprocessed_total, file, indent=2)\n",
    "    print(f\"Saved complete fileset chunks to {output_file}_all.json.gz\")"
   ]
  },
  {
   "cell_type": "code",
   "execution_count": 13,
   "id": "46cdacf6-fca5-4091-972f-2c2fd5fb1aa9",
   "metadata": {},
   "outputs": [],
   "source": [
    "test_preprocessed_files = max_files(preprocessed_available, 2)\n",
    "test_preprocessed = max_chunks(test_preprocessed_files, 30)"
   ]
  },
  {
   "cell_type": "code",
   "execution_count": 14,
   "id": "f726e6e9-5e71-4e15-a5ba-ecd69a094408",
   "metadata": {
    "scrolled": true
   },
   "outputs": [
    {
     "name": "stdout",
     "output_type": "stream",
     "text": [
      "{'QCD_Pt_3200toInf': {'files': {'root://cmsxrootd.fnal.gov:1094//store/user/lpcpfnano/jekrupa/v2_2/2018/QCD/QCD_Pt_3200toInf_TuneCP5_13TeV_pythia8/QCD_Pt_3200toInf/211111_021344/0000/nano_mc2018_1-1.root': {'object_path': 'Events', 'steps': [[0, 20000]], 'num_entries': 20000, 'uuid': 'd9ce945c-44de-11ec-9ad0-020013acbeef'}, 'root://cmsxrootd.fnal.gov:1094//store/user/lpcpfnano/jekrupa/v2_2/2018/QCD/QCD_Pt_3200toInf_TuneCP5_13TeV_pythia8/QCD_Pt_3200toInf/211111_021344/0000/nano_mc2018_1-2.root': {'object_path': 'Events', 'steps': [[0, 20000]], 'num_entries': 20000, 'uuid': 'bfd65c0a-45ac-11ec-9165-1c0b030abeef'}}, 'form': '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', 'metadata': None}}\n"
     ]
    }
   ],
   "source": [
    "print(test_preprocessed_files)"
   ]
  },
  {
   "cell_type": "code",
   "execution_count": 15,
   "id": "6c9ddc03-6eee-4432-a33e-38502aa65d85",
   "metadata": {},
   "outputs": [],
   "source": [
    "compute, results = apply_to_fileset(data_manipulation=msdProcessor(),    \n",
    "                            fileset=test_preprocessed_files,\n",
    "                            schemaclass=PFNanoAODSchema,\n",
    "                            uproot_options={\"allow_read_errors_with_report\": (OSError, KeyError)},\n",
    "                           )"
   ]
  },
  {
   "cell_type": "code",
   "execution_count": 16,
   "id": "ad9dd4f4-a41e-43a0-ae06-ba3f8e3ff87e",
   "metadata": {
    "scrolled": true
   },
   "outputs": [
    {
     "name": "stderr",
     "output_type": "stream",
     "text": [
      "/uscms/home/nyabando/nobackup/miniconda3/envs/fastjet/lib/python3.12/site-packages/coffea/nanoevents/methods/candidate.py:11: FutureWarning: In version 2024.7.0 (target date: 2024-06-30 11:59:59-05:00), this will be an error.\n",
      "To raise these warnings as errors (and get stack traces to find out where they're called), run\n",
      "    import warnings\n",
      "    warnings.filterwarnings(\"error\", module=\"coffea.*\")\n",
      "after the first `import coffea` or use `@pytest.mark.filterwarnings(\"error:::coffea.*\")` in pytest.\n",
      "Issue: coffea.nanoevents.methods.vector will be removed and replaced with scikit-hep vector. Nanoevents schemas internal to coffea will be migrated. Otherwise please consider using that package!.\n",
      "  from coffea.nanoevents.methods import vector\n",
      "/uscms/home/nyabando/nobackup/miniconda3/envs/fastjet/lib/python3.12/site-packages/coffea/nanoevents/methods/candidate.py:11: FutureWarning: In version 2024.7.0 (target date: 2024-06-30 11:59:59-05:00), this will be an error.\n",
      "To raise these warnings as errors (and get stack traces to find out where they're called), run\n",
      "    import warnings\n",
      "    warnings.filterwarnings(\"error\", module=\"coffea.*\")\n",
      "after the first `import coffea` or use `@pytest.mark.filterwarnings(\"error:::coffea.*\")` in pytest.\n",
      "Issue: coffea.nanoevents.methods.vector will be removed and replaced with scikit-hep vector. Nanoevents schemas internal to coffea will be migrated. Otherwise please consider using that package!.\n",
      "  from coffea.nanoevents.methods import vector\n",
      "/uscms/home/nyabando/nobackup/miniconda3/envs/fastjet/lib/python3.12/site-packages/awkward/_nplikes/array_module.py:246: RuntimeWarning: invalid value encountered in sqrt\n",
      "  return impl(*broadcasted_args, **(kwargs or {}))\n",
      "/uscms/home/nyabando/nobackup/miniconda3/envs/fastjet/lib/python3.12/site-packages/coffea/nanoevents/methods/candidate.py:11: FutureWarning: In version 2024.7.0 (target date: 2024-06-30 11:59:59-05:00), this will be an error.\n",
      "To raise these warnings as errors (and get stack traces to find out where they're called), run\n",
      "    import warnings\n",
      "    warnings.filterwarnings(\"error\", module=\"coffea.*\")\n",
      "after the first `import coffea` or use `@pytest.mark.filterwarnings(\"error:::coffea.*\")` in pytest.\n",
      "Issue: coffea.nanoevents.methods.vector will be removed and replaced with scikit-hep vector. Nanoevents schemas internal to coffea will be migrated. Otherwise please consider using that package!.\n",
      "  from coffea.nanoevents.methods import vector\n",
      "/uscms/home/nyabando/nobackup/miniconda3/envs/fastjet/lib/python3.12/site-packages/coffea/nanoevents/methods/candidate.py:11: FutureWarning: In version 2024.7.0 (target date: 2024-06-30 11:59:59-05:00), this will be an error.\n",
      "To raise these warnings as errors (and get stack traces to find out where they're called), run\n",
      "    import warnings\n",
      "    warnings.filterwarnings(\"error\", module=\"coffea.*\")\n",
      "after the first `import coffea` or use `@pytest.mark.filterwarnings(\"error:::coffea.*\")` in pytest.\n",
      "Issue: coffea.nanoevents.methods.vector will be removed and replaced with scikit-hep vector. Nanoevents schemas internal to coffea will be migrated. Otherwise please consider using that package!.\n",
      "  from coffea.nanoevents.methods import vector\n"
     ]
    },
    {
     "name": "stdout",
     "output_type": "stream",
     "text": [
      "#--------------------------------------------------------------------------\n",
      "#                         FastJet release 3.4.1\n",
      "#                 M. Cacciari, G.P. Salam and G. Soyez                  \n",
      "#     A software package for jet finding and analysis at colliders      \n",
      "#                           http://fastjet.fr                           \n",
      "#\t                                                                      \n",
      "# Please cite EPJC72(2012)1896 [arXiv:1111.6097] if you use this package\n",
      "# for scientific work and optionally PLB641(2006)57 [hep-ph/0512210].   \n",
      "#                                                                       \n",
      "# FastJet is provided without warranty under the GNU GPL v2 or higher.  \n",
      "# It uses T. Chan's closest pair algorithm, S. Fortune's Voronoi code,\n",
      "# CGAL and 3rd party plugin jet algorithms. See COPYING file for details.\n",
      "#--------------------------------------------------------------------------\n"
     ]
    },
    {
     "name": "stderr",
     "output_type": "stream",
     "text": [
      "/uscms/home/nyabando/nobackup/miniconda3/envs/fastjet/lib/python3.12/site-packages/awkward/_nplikes/array_module.py:246: RuntimeWarning: invalid value encountered in sqrt\n",
      "  return impl(*broadcasted_args, **(kwargs or {}))\n"
     ]
    },
    {
     "name": "stdout",
     "output_type": "stream",
     "text": [
      "#--------------------------------------------------------------------------\n",
      "#                         FastJet release 3.4.1\n",
      "#                 M. Cacciari, G.P. Salam and G. Soyez                  \n",
      "#     A software package for jet finding and analysis at colliders      \n",
      "#                           http://fastjet.fr                           \n",
      "#\t                                                                      \n",
      "# Please cite EPJC72(2012)1896 [arXiv:1111.6097] if you use this package\n",
      "# for scientific work and optionally PLB641(2006)57 [hep-ph/0512210].   \n",
      "#                                                                       \n",
      "# FastJet is provided without warranty under the GNU GPL v2 or higher.  \n",
      "# It uses T. Chan's closest pair algorithm, S. Fortune's Voronoi code,\n",
      "# CGAL and 3rd party plugin jet algorithms. See COPYING file for details.\n",
      "#--------------------------------------------------------------------------\n",
      "#--------------------------------------------------------------------------\n",
      "#                         FastJet release 3.4.1\n",
      "#                 M. Cacciari, G.P. Salam and G. Soyez                  \n",
      "#     A software package for jet finding and analysis at colliders      \n",
      "#                           http://fastjet.fr                           \n",
      "#\t                                                                      \n",
      "# Please cite EPJC72(2012)1896 [arXiv:1111.6097] if you use this package\n",
      "# for scientific work and optionally PLB641(2006)57 [hep-ph/0512210].   \n",
      "#                                                                       \n",
      "# FastJet is provided without warranty under the GNU GPL v2 or higher.  \n",
      "# It uses T. Chan's closest pair algorithm, S. Fortune's Voronoi code,\n",
      "# CGAL and 3rd party plugin jet algorithms. See COPYING file for details.\n",
      "#--------------------------------------------------------------------------\n",
      "#--------------------------------------------------------------------------\n",
      "#                         FastJet release 3.4.1\n",
      "#                 M. Cacciari, G.P. Salam and G. Soyez                  \n",
      "#     A software package for jet finding and analysis at colliders      \n",
      "#                           http://fastjet.fr                           \n",
      "#\t                                                                      \n",
      "# Please cite EPJC72(2012)1896 [arXiv:1111.6097] if you use this package\n",
      "# for scientific work and optionally PLB641(2006)57 [hep-ph/0512210].   \n",
      "#                                                                       \n",
      "# FastJet is provided without warranty under the GNU GPL v2 or higher.  \n",
      "# It uses T. Chan's closest pair algorithm, S. Fortune's Voronoi code,\n",
      "# CGAL and 3rd party plugin jet algorithms. See COPYING file for details.\n",
      "#--------------------------------------------------------------------------\n"
     ]
    }
   ],
   "source": [
    "compute_results=dask.compute(compute)"
   ]
  },
  {
   "cell_type": "code",
   "execution_count": 17,
   "id": "b5fc4980-8159-4f54-ba8a-b948785bd766",
   "metadata": {
    "scrolled": true
   },
   "outputs": [
    {
     "name": "stdout",
     "output_type": "stream",
     "text": [
      "({'QCD_Pt_3200toInf': {'ExampleHistogram': Hist(\n",
      "  Regular(36, 0, 252, name='msoftdrop', label='Jet msoftdrop'),\n",
      "  Regular(10, 0, 1, name='n2', label='Jet n2'),\n",
      "  storage=Weight()) # Sum: WeightedSum(value=32587, variance=32587) (WeightedSum(value=40000, variance=40000) with flow), 'ExampleHistogram1': Hist(\n",
      "  Regular(10, 0, 1, name='n2b', label='Jet n2b'),\n",
      "  Regular(36, 0, 252, name='msoftdrop1', label='Jet msoftdrop'),\n",
      "  storage=Weight()) # Sum: WeightedSum(value=32170, variance=32170) (WeightedSum(value=40000, variance=40000) with flow), 'ExampleHistogram2': Hist(\n",
      "  Regular(10, 0, 1, name='n2b2', label='Jet n2b2'),\n",
      "  Regular(36, 0, 252, name='msoftdrop2', label='Jet msoftdrop'),\n",
      "  storage=Weight()) # Sum: WeightedSum(value=30810, variance=30810) (WeightedSum(value=40000, variance=40000) with flow), 'ExampleHistogram3': Hist(\n",
      "  Regular(10, 0, 1, name='n2b3', label='Jet n2b3'),\n",
      "  Regular(36, 0, 252, name='msoftdrop3', label='Jet msoftdrop'),\n",
      "  storage=Weight()) # Sum: WeightedSum(value=2927, variance=2927) (WeightedSum(value=40000, variance=40000) with flow), 'ExampleHistogram4': Hist(\n",
      "  Regular(10, 0, 1, name='n2z1', label='Jet n2b'),\n",
      "  Regular(36, 0, 252, name='msoftdropz1', label='Jet msoftdrop z1'),\n",
      "  storage=Weight()) # Sum: WeightedSum(value=31312, variance=31312) (WeightedSum(value=40000, variance=40000) with flow), 'ExampleHistogram5': Hist(\n",
      "  Regular(10, 0, 1, name='n2z2', label='Jet n2b2'),\n",
      "  Regular(36, 0, 252, name='msoftdropz2', label='Jet msoftdrop z2'),\n",
      "  storage=Weight()) # Sum: WeightedSum(value=30512, variance=30512) (WeightedSum(value=40000, variance=40000) with flow), 'sumw': 40000.0}},)\n"
     ]
    }
   ],
   "source": [
    "print(compute_results)"
   ]
  },
  {
   "cell_type": "code",
   "execution_count": 18,
   "id": "382097f3-c493-4140-935b-e4487bfb4fab",
   "metadata": {},
   "outputs": [],
   "source": [
    "from coffea import processor, util"
   ]
  },
  {
   "cell_type": "code",
   "execution_count": 19,
   "id": "0886cbc4-1a7d-41fb-b562-f1677ed30f78",
   "metadata": {},
   "outputs": [],
   "source": [
    "util.save(compute_results, \"coffea/QCD_\"+qcd_slice+\".coffea\")"
   ]
  },
  {
   "cell_type": "code",
   "execution_count": 20,
   "id": "ce1b8d9a-76f8-48d9-9d9f-ae8b7ff26fc5",
   "metadata": {},
   "outputs": [],
   "source": [
    "# util.save(compute_results, \"2018_QCD_Pt1000to1400.coffea\")"
   ]
  },
  {
   "cell_type": "code",
   "execution_count": 20,
   "id": "2e4e0d33-dab9-4a51-a950-c6b70c11138f",
   "metadata": {},
   "outputs": [],
   "source": [
    "# print(compute_results)"
   ]
  },
  {
   "cell_type": "code",
   "execution_count": 22,
   "id": "0816ad88-7cc9-4d3f-aa7d-d4c3e37eea3b",
   "metadata": {},
   "outputs": [],
   "source": [
    "h=compute_results[0][\"QCD_Pt_1000to1400\"][\"ExampleHistogram\"]"
   ]
  },
  {
   "cell_type": "code",
   "execution_count": 23,
   "id": "083688e2-c231-47e9-adc4-e23a2267c8af",
   "metadata": {},
   "outputs": [
    {
     "name": "stdout",
     "output_type": "stream",
     "text": [
      "Hist(\n",
      "  Regular(36, 0, 252, name='msoftdrop', label='Jet msoftdrop'),\n",
      "  Regular(10, 0, 1, name='n2', label='Jet n2'),\n",
      "  storage=Weight()) # Sum: WeightedSum(value=19934, variance=19934) (WeightedSum(value=21996, variance=21996) with flow)\n"
     ]
    }
   ],
   "source": [
    "print(h)"
   ]
  },
  {
   "cell_type": "code",
   "execution_count": 24,
   "id": "884037f9-8377-4a63-8338-dcaa6e413a9c",
   "metadata": {},
   "outputs": [],
   "source": [
    "# print(type(h))"
   ]
  },
  {
   "cell_type": "code",
   "execution_count": 25,
   "id": "89092118-5418-41e9-8fd9-264a1393436a",
   "metadata": {},
   "outputs": [
    {
     "ename": "KeyError",
     "evalue": "'GluGluHToBB'",
     "output_type": "error",
     "traceback": [
      "\u001b[0;31m---------------------------------------------------------------------------\u001b[0m",
      "\u001b[0;31mKeyError\u001b[0m                                  Traceback (most recent call last)",
      "Cell \u001b[0;32mIn[25], line 1\u001b[0m\n\u001b[0;32m----> 1\u001b[0m h1\u001b[38;5;241m=\u001b[39m \u001b[43mcompute_results\u001b[49m\u001b[43m[\u001b[49m\u001b[38;5;241;43m0\u001b[39;49m\u001b[43m]\u001b[49m\u001b[43m[\u001b[49m\u001b[38;5;124;43m\"\u001b[39;49m\u001b[38;5;124;43mGluGluHToBB\u001b[39;49m\u001b[38;5;124;43m\"\u001b[39;49m\u001b[43m]\u001b[49m[\u001b[38;5;124m\"\u001b[39m\u001b[38;5;124mExampleHistogram1\u001b[39m\u001b[38;5;124m\"\u001b[39m]\n",
      "\u001b[0;31mKeyError\u001b[0m: 'GluGluHToBB'"
     ]
    }
   ],
   "source": [
    "h1= compute_results[0][\"GluGluHToBB\"][\"ExampleHistogram1\"]"
   ]
  },
  {
   "cell_type": "code",
   "execution_count": null,
   "id": "81000f05-712c-47e9-a871-af3fe810af6c",
   "metadata": {},
   "outputs": [],
   "source": [
    "h2= compute_results[0][\"GluGluHToBB\"][\"ExampleHistogram2\"]"
   ]
  },
  {
   "cell_type": "code",
   "execution_count": null,
   "id": "65d05a47-efe9-40f5-8382-81c4d935677c",
   "metadata": {},
   "outputs": [],
   "source": [
    "h3= compute_results[0][\"GluGluHToBB\"][\"ExampleHistogram3\"]"
   ]
  },
  {
   "cell_type": "code",
   "execution_count": null,
   "id": "3f8e7cf8-47c7-46a7-8ad3-7f02c3b25c9e",
   "metadata": {},
   "outputs": [],
   "source": [
    "h4= compute_results[0][\"GluGluHToBB\"][\"ExampleHistogram4\"]"
   ]
  },
  {
   "cell_type": "code",
   "execution_count": null,
   "id": "eae39243-74f1-455d-a5cf-621afdf91568",
   "metadata": {},
   "outputs": [],
   "source": [
    "h5= compute_results[0][\"GluGluHToBB\"][\"ExampleHistogram5\"]"
   ]
  },
  {
   "cell_type": "code",
   "execution_count": null,
   "id": "5639c70b-f200-47c3-84f7-9904f7f5f3fd",
   "metadata": {},
   "outputs": [],
   "source": [
    "h[{'eta':sum, 'pt':sum, 'msoftdrop':sum}].plot1d(label=\"beta=0\")\n",
    "h1[{'msoftdrop1':sum}].plot1d(label=\"beta=1\")\n",
    "h2[{'msoftdrop2':sum}].plot1d(label=\"beta=2\")\n",
    "h3[{'msoftdrop3':sum}].plot1d(label=\"beta=-0.5\")\n",
    "plt.suptitle('ggF 2018')\n",
    "plt.ylabel('Events')\n",
    "\n",
    "plt.legend()\n"
   ]
  },
  {
   "cell_type": "code",
   "execution_count": null,
   "id": "d9671491-ee6e-4d68-a93d-fa3b5bdcb36b",
   "metadata": {},
   "outputs": [],
   "source": [
    "h[{'eta':sum, 'pt':sum, 'n2':sum}].plot1d(label=\"beta=0\")\n",
    "h1[{'n2b':sum}].plot1d(label=\"beta=1\")\n",
    "h2[{'n2b2':sum}].plot1d(label=\"beta=2\")\n",
    "h3[{'n2b3':sum}].plot1d(label=\"beta=-0.5\")\n",
    "plt.suptitle('ggF 2018')\n",
    "plt.ylabel('Events')\n",
    "\n",
    "plt.legend()"
   ]
  },
  {
   "cell_type": "code",
   "execution_count": null,
   "id": "f030a8bf-31ef-419c-9e73-f9b0ed887c4c",
   "metadata": {},
   "outputs": [],
   "source": [
    "h[{'eta':sum, 'pt':sum, 'msoftdrop':sum}].plot1d(label=\"zcut=0.10\")\n",
    "h4[{'msoftdropz1':sum}].plot1d(label=\"zcut=0.05\")\n",
    "h5[{'msoftdropz2':sum}].plot1d(label=\"zcut=0.20\")\n",
    "plt.suptitle('ggF 2018')\n",
    "plt.ylabel('Events')\n",
    "\n",
    "plt.legend()"
   ]
  },
  {
   "cell_type": "code",
   "execution_count": null,
   "id": "28a183c3-a806-4dc9-96b1-0fb1ed915e3d",
   "metadata": {},
   "outputs": [],
   "source": [
    "h[{'eta':sum, 'pt':sum, 'n2':sum}].plot1d(label=\"zcut=0.10\")\n",
    "h4[{'n2z1':sum}].plot1d(label=\"zcut=0.05\")\n",
    "h5[{'n2z2':sum}].plot1d(label=\"zcut=0.20\")\n",
    "plt.ylabel('Events')\n",
    "\n",
    "\n",
    "plt.legend()"
   ]
  },
  {
   "cell_type": "code",
   "execution_count": null,
   "id": "8c50bf8e-6647-4f67-be00-799cf436ff5b",
   "metadata": {},
   "outputs": [],
   "source": [
    "client.close"
   ]
  },
  {
   "cell_type": "code",
   "execution_count": null,
   "id": "61381e2e-230e-41a3-8412-e553a44b2338",
   "metadata": {},
   "outputs": [],
   "source": [
    "client.close()"
   ]
  },
  {
   "cell_type": "code",
   "execution_count": null,
   "id": "ca0d695e-092d-4511-aedf-59e7d846490e",
   "metadata": {},
   "outputs": [],
   "source": [
    "# from coffea.analysis_tools import Weights"
   ]
  },
  {
   "cell_type": "code",
   "execution_count": null,
   "id": "3c652d75-2ca4-41da-8ba2-58262ad121b4",
   "metadata": {},
   "outputs": [],
   "source": [
    "# Weights?"
   ]
  },
  {
   "cell_type": "code",
   "execution_count": null,
   "id": "2f229703-382b-4e04-b1c1-6a0040bba2ae",
   "metadata": {},
   "outputs": [],
   "source": [
    "# def analysis(df):\n",
    "#     processor_instance = msdProcessor(isMC=True)\n",
    "#     result = processor_instance.process(df)\n",
    "#     return result"
   ]
  },
  {
   "cell_type": "code",
   "execution_count": null,
   "id": "a927761d-ea7c-4d86-9464-6e170a685571",
   "metadata": {},
   "outputs": [],
   "source": [
    "# df = compute"
   ]
  },
  {
   "cell_type": "code",
   "execution_count": null,
   "id": "37151202-e872-4254-bac6-584b4ee76af0",
   "metadata": {},
   "outputs": [],
   "source": [
    "# results = dask.delayed(analysis)(df)\n",
    "# final_result = dask.compute(results)"
   ]
  },
  {
   "cell_type": "code",
   "execution_count": null,
   "id": "c12660f4-9aec-4d8c-b768-a28f18c48cd3",
   "metadata": {},
   "outputs": [],
   "source": [
    "#result_compute"
   ]
  },
  {
   "cell_type": "code",
   "execution_count": null,
   "id": "3fcbe7d8-82c9-4af6-82a8-f37a4352723c",
   "metadata": {},
   "outputs": [],
   "source": [
    "tg_result = dask.compute(tg)\n",
    "rep_result = dask.compute(rep)"
   ]
  },
  {
   "cell_type": "code",
   "execution_count": null,
   "id": "373b8c33-aa79-4545-9e91-08368d2fdeef",
   "metadata": {},
   "outputs": [],
   "source": []
  }
 ],
 "metadata": {
  "kernelspec": {
   "display_name": "Python 3 (ipykernel)",
   "language": "python",
   "name": "python3"
  },
  "language_info": {
   "codemirror_mode": {
    "name": "ipython",
    "version": 3
   },
   "file_extension": ".py",
   "mimetype": "text/x-python",
   "name": "python",
   "nbconvert_exporter": "python",
   "pygments_lexer": "ipython3",
   "version": "3.12.3"
  }
 },
 "nbformat": 4,
 "nbformat_minor": 5
}
