{
 "cells": [
  {
   "cell_type": "code",
   "execution_count": 1,
   "id": "176b048a",
   "metadata": {},
   "outputs": [],
   "source": [
    "import awkward as ak\n",
    "import uproot\n",
    "import numpy as np\n",
    "from coffea.nanoevents import NanoEventsFactory, NanoAODSchema\n",
    "\n",
    "import matplotlib.pyplot as plt\n",
    "import matplotlib.colors as colors\n",
    "import mplhep as hep\n",
    "plt.style.use(hep.style.ROOT)\n",
    "\n",
    "import matplotlib.pylab as pylab\n",
    "params = {'legend.fontsize': 'medium',\n",
    "         'axes.labelsize': 'x-large',\n",
    "         'axes.titlesize':'x-large',\n",
    "         'xtick.labelsize':'medium',\n",
    "         'ytick.labelsize':'medium'}\n",
    "pylab.rcParams.update(params)\n",
    "\n",
    "#line thickness\n",
    "import matplotlib as mpl\n",
    "mpl.rcParams['lines.linewidth'] = 5"
   ]
  },
  {
   "cell_type": "code",
   "execution_count": 10,
   "id": "174d8b77",
   "metadata": {},
   "outputs": [],
   "source": [
    "# a file containing 2018 ggF simulation\n",
    "sample = \"root://cmseos.fnal.gov//store/group/lpcpfnano/jdickins/v2_2/2018/GluGluHToBB/GluGluHToBB_Pt-200ToInf_M-125_TuneCP5_MINLO_13TeV-powheg-pythia8/GluGluHToBB/220322_131235/0000/nano_mc2018_1.root\""
   ]
  },
  {
   "cell_type": "code",
   "execution_count": 11,
   "id": "acc6bcd0",
   "metadata": {},
   "outputs": [
    {
     "name": "stderr",
     "output_type": "stream",
     "text": [
      "/opt/conda/lib/python3.10/site-packages/coffea/nanoevents/mapping/uproot.py:86: UserWarning: Found duplicate branch FatJetAK15SubJet_nBHadrons in <TTree 'Events' (1912 branches) at 0x7fa4319ee8c0>, taking first instance\n",
      "  warnings.warn(\n",
      "/opt/conda/lib/python3.10/site-packages/coffea/nanoevents/mapping/uproot.py:86: UserWarning: Found duplicate branch FatJetAK15SubJet_nCHadrons in <TTree 'Events' (1912 branches) at 0x7fa4319ee8c0>, taking first instance\n",
      "  warnings.warn(\n",
      "/opt/conda/lib/python3.10/site-packages/coffea/nanoevents/mapping/uproot.py:86: UserWarning: Found duplicate branch FatJetAK15_nBHadrons in <TTree 'Events' (1912 branches) at 0x7fa4319ee8c0>, taking first instance\n",
      "  warnings.warn(\n",
      "/opt/conda/lib/python3.10/site-packages/coffea/nanoevents/mapping/uproot.py:86: UserWarning: Found duplicate branch FatJetAK15_nCHadrons in <TTree 'Events' (1912 branches) at 0x7fa4319ee8c0>, taking first instance\n",
      "  warnings.warn(\n",
      "/opt/conda/lib/python3.10/site-packages/coffea/nanoevents/mapping/uproot.py:86: UserWarning: Found duplicate branch FatJet_btagDDBvLV2 in <TTree 'Events' (1912 branches) at 0x7fa4319ee8c0>, taking first instance\n",
      "  warnings.warn(\n",
      "/opt/conda/lib/python3.10/site-packages/coffea/nanoevents/mapping/uproot.py:86: UserWarning: Found duplicate branch FatJet_btagDDCvBV2 in <TTree 'Events' (1912 branches) at 0x7fa4319ee8c0>, taking first instance\n",
      "  warnings.warn(\n",
      "/opt/conda/lib/python3.10/site-packages/coffea/nanoevents/mapping/uproot.py:86: UserWarning: Found duplicate branch FatJet_btagDDCvLV2 in <TTree 'Events' (1912 branches) at 0x7fa4319ee8c0>, taking first instance\n",
      "  warnings.warn(\n",
      "/opt/conda/lib/python3.10/site-packages/coffea/nanoevents/mapping/uproot.py:86: UserWarning: Found duplicate branch FatJet_nBHadrons in <TTree 'Events' (1912 branches) at 0x7fa4319ee8c0>, taking first instance\n",
      "  warnings.warn(\n",
      "/opt/conda/lib/python3.10/site-packages/coffea/nanoevents/mapping/uproot.py:86: UserWarning: Found duplicate branch FatJet_nCHadrons in <TTree 'Events' (1912 branches) at 0x7fa4319ee8c0>, taking first instance\n",
      "  warnings.warn(\n",
      "/opt/conda/lib/python3.10/site-packages/coffea/nanoevents/mapping/uproot.py:86: UserWarning: Found duplicate branch SubJet_nBHadrons in <TTree 'Events' (1912 branches) at 0x7fa4319ee8c0>, taking first instance\n",
      "  warnings.warn(\n",
      "/opt/conda/lib/python3.10/site-packages/coffea/nanoevents/mapping/uproot.py:86: UserWarning: Found duplicate branch SubJet_nCHadrons in <TTree 'Events' (1912 branches) at 0x7fa4319ee8c0>, taking first instance\n",
      "  warnings.warn(\n"
     ]
    }
   ],
   "source": [
    "events = NanoEventsFactory.from_root(sample, schemaclass=NanoAODSchema).events()"
   ]
  },
  {
   "cell_type": "code",
   "execution_count": 12,
   "id": "03228b20",
   "metadata": {},
   "outputs": [
    {
     "data": {
      "text/plain": [
       "['area',\n",
       " 'btagCSVV2',\n",
       " 'btagDDBvLV2',\n",
       " 'btagDDCvBV2',\n",
       " 'btagDDCvLV2',\n",
       " 'btagDeepB',\n",
       " 'btagHbb',\n",
       " 'deepTagMD_H4qvsQCD',\n",
       " 'deepTagMD_HbbvsQCD',\n",
       " 'deepTagMD_TvsQCD',\n",
       " 'deepTagMD_WvsQCD',\n",
       " 'deepTagMD_ZHbbvsQCD',\n",
       " 'deepTagMD_ZHccvsQCD',\n",
       " 'deepTagMD_ZbbvsQCD',\n",
       " 'deepTagMD_ZvsQCD',\n",
       " 'deepTagMD_bbvsLight',\n",
       " 'deepTagMD_ccvsLight',\n",
       " 'deepTag_H',\n",
       " 'deepTag_QCD',\n",
       " 'deepTag_QCDothers',\n",
       " 'deepTag_TvsQCD',\n",
       " 'deepTag_WvsQCD',\n",
       " 'deepTag_ZvsQCD',\n",
       " 'eta',\n",
       " 'mass',\n",
       " 'msoftdrop',\n",
       " 'n2b1',\n",
       " 'n3b1',\n",
       " 'particleNetMD_QCD',\n",
       " 'particleNetMD_Xbb',\n",
       " 'particleNetMD_Xcc',\n",
       " 'particleNetMD_Xqq',\n",
       " 'particleNet_H4qvsQCD',\n",
       " 'particleNet_HbbvsQCD',\n",
       " 'particleNet_HccvsQCD',\n",
       " 'particleNet_QCD',\n",
       " 'particleNet_TvsQCD',\n",
       " 'particleNet_WvsQCD',\n",
       " 'particleNet_ZvsQCD',\n",
       " 'particleNet_mass',\n",
       " 'phi',\n",
       " 'pt',\n",
       " 'rawFactor',\n",
       " 'tau1',\n",
       " 'tau2',\n",
       " 'tau3',\n",
       " 'tau4',\n",
       " 'lsf3',\n",
       " 'jetId',\n",
       " 'subJetIdx1',\n",
       " 'subJetIdx2',\n",
       " 'electronIdx3SJ',\n",
       " 'muonIdx3SJ',\n",
       " 'nConstituents',\n",
       " 'DDX_tau1_flightDistance2dSig',\n",
       " 'DDX_tau1_trackEtaRel_0',\n",
       " 'DDX_tau1_trackEtaRel_1',\n",
       " 'DDX_tau1_trackEtaRel_2',\n",
       " 'DDX_tau1_trackSip3dSig_0',\n",
       " 'DDX_tau1_trackSip3dSig_1',\n",
       " 'DDX_tau1_vertexDeltaR',\n",
       " 'DDX_tau1_vertexEnergyRatio',\n",
       " 'DDX_tau1_vertexMass',\n",
       " 'DDX_tau2_flightDistance2dSig',\n",
       " 'DDX_tau2_trackEtaRel_0',\n",
       " 'DDX_tau2_trackEtaRel_1',\n",
       " 'DDX_tau2_trackEtaRel_3',\n",
       " 'DDX_tau2_trackSip3dSig_0',\n",
       " 'DDX_tau2_trackSip3dSig_1',\n",
       " 'DDX_tau2_vertexEnergyRatio',\n",
       " 'DDX_tau2_vertexMass',\n",
       " 'DDX_trackSip2dSigAboveBottom_0',\n",
       " 'DDX_trackSip2dSigAboveBottom_1',\n",
       " 'DDX_trackSip2dSigAboveCharm',\n",
       " 'DDX_trackSip3dSig_0',\n",
       " 'DDX_trackSip3dSig_1',\n",
       " 'DDX_trackSip3dSig_2',\n",
       " 'DDX_trackSip3dSig_3',\n",
       " 'DDX_z_ratio',\n",
       " 'Proba',\n",
       " 'btagDeepB_b',\n",
       " 'btagDeepB_bb',\n",
       " 'btagDeepL',\n",
       " 'DDX_jetNSecondaryVertices',\n",
       " 'DDX_jetNTracks',\n",
       " 'nBHadrons',\n",
       " 'nCHadrons',\n",
       " 'genJetAK8Idx',\n",
       " 'hadronFlavour',\n",
       " 'genJetAK8IdxG',\n",
       " 'subJetIdx1G',\n",
       " 'subJetIdx2G',\n",
       " 'subJetIdxG',\n",
       " 'pFCandsIdxG']"
      ]
     },
     "execution_count": 12,
     "metadata": {},
     "output_type": "execute_result"
    }
   ],
   "source": [
    "events.FatJet.fields"
   ]
  },
  {
   "cell_type": "code",
   "execution_count": null,
   "id": "4e0a07a9",
   "metadata": {},
   "outputs": [],
   "source": [
    "def check_not_none(a):\n",
    "    print(len(a[~ak.is_none(a)]))\n",
    "    \n",
    "def return_not_none(a):\n",
    "    return a[~ak.is_none(a)]"
   ]
  },
  {
   "cell_type": "code",
   "execution_count": null,
   "id": "460cbf35",
   "metadata": {},
   "outputs": [],
   "source": [
    "fatjets = events.FatJet\n",
    "\n",
    "candidatejet = fatjets[(fatjets.pt > 200)\n",
    "                       & (abs(fatjets.eta) < 2.5)\n",
    "                       & fatjets.isTight\n",
    "                      ]\n",
    "\n",
    "leadingjets = candidatejet[:, 0:2]\n",
    "            "
   ]
  },
  {
   "cell_type": "code",
   "execution_count": null,
   "id": "ef922d1e",
   "metadata": {},
   "outputs": [],
   "source": [
    "particleNetMD_Xbb = leadingjets.particleNetMD_Xbb\n",
    "particleNetMD_Xcc = leadingjets.particleNetMD_Xcc\n",
    "particleNetMD_Xqq = leadingjets.particleNetMD_Xqq\n",
    "particleNetMD_QCD = leadingjets.particleNetMD_QCD\n",
    "\n",
    "# ascending = true                                                                                                                                \n",
    "indices = ak.argsort(particleNetMD_Xbb,axis=1)\n",
    "\n",
    "# candidate jet is more b-like (lower CvB score)                                                                                                           \n",
    "candidatejet = return_not_none(ak.firsts(leadingjets[indices[:, 1:2]]))\n",
    "            \n",
    "# second jet is more charm-like (larger CvB score)                                                                                                           \n",
    "secondjet = return_not_none(ak.firsts(leadingjets[indices[:, 0:1]]))"
   ]
  },
  {
   "cell_type": "code",
   "execution_count": null,
   "id": "b50ffb7c",
   "metadata": {},
   "outputs": [],
   "source": [
    "ddcvb = leadingjets.btagDDCvBV2\n",
    "\n",
    "# ascending = true                                                                                                                                \n",
    "indices = ak.argsort(ddcvb,axis=1)\n",
    "\n",
    "# candidate jet is more b-like (lower CvB score)                                                                                                           \n",
    "candidatejet_old = ak.firsts(leadingjets[indices[:, 1:2]])\n",
    "            \n",
    "# second jet is more charm-like (larger CvB score)                                                                                                           \n",
    "secondjet_old = ak.firsts(leadingjets[indices[:, 0:1]])"
   ]
  },
  {
   "cell_type": "code",
   "execution_count": null,
   "id": "c20c1396",
   "metadata": {},
   "outputs": [],
   "source": [
    "bins=np.linspace(0,1,11)"
   ]
  },
  {
   "cell_type": "code",
   "execution_count": null,
   "id": "29794efb",
   "metadata": {},
   "outputs": [],
   "source": [
    "particleNetMD_Xbb = candidatejet.particleNetMD_Xbb\n",
    "particleNetMD_Xcc = candidatejet.particleNetMD_Xcc\n",
    "particleNetMD_Xqq = candidatejet.particleNetMD_Xqq\n",
    "particleNetMD_QCD = candidatejet.particleNetMD_QCD\n",
    "\n",
    "plt.hist(particleNetMD_Xbb,histtype='step',bins=bins,label='Xbb');\n",
    "plt.hist(particleNetMD_Xcc,histtype='step',bins=bins,label='Xcc');\n",
    "plt.hist(particleNetMD_Xqq,histtype='step',bins=bins,label='Xqq');\n",
    "plt.hist(particleNetMD_QCD,histtype='step',bins=bins,label='QCD');\n",
    "plt.legend(frameon=False)\n",
    "plt.xlabel('particleNetMD')"
   ]
  },
  {
   "cell_type": "code",
   "execution_count": null,
   "id": "80ba9540",
   "metadata": {},
   "outputs": [],
   "source": [
    "plt.hist(particleNetMD_Xbb / (1 - particleNetMD_Xcc - particleNetMD_Xqq),histtype='step',bins=bins,label='Xbb');\n",
    "plt.hist(particleNetMD_Xcc / (1 - particleNetMD_Xbb - particleNetMD_Xqq),histtype='step',bins=bins,label='Xcc');\n",
    "plt.hist(particleNetMD_Xqq / (1 - particleNetMD_Xbb - particleNetMD_Xcc),histtype='step',bins=bins,label='Xqq');\n",
    "#plt.hist(particleNetMD_QCD / (particleNetMD_Xbb + particleNetMD_QCD + particleNetMD_Xcc + particleNetMD_Xqq),histtype='step',bins=bins,label='QCD');\n",
    "plt.legend(frameon=False)\n",
    "plt.xlabel('Transformed particleNetMD')"
   ]
  },
  {
   "cell_type": "code",
   "execution_count": null,
   "id": "cb55f1c9",
   "metadata": {},
   "outputs": [],
   "source": [
    "plt.hist(candidatejet.particleNet_WvsQCD,histtype='step',bins=bins,label='WvsQCD');\n",
    "plt.hist(candidatejet.particleNet_ZvsQCD,histtype='step',bins=bins,label='ZvsQCD');\n",
    "plt.legend(frameon=False)\n",
    "plt.xlabel('particleNet')"
   ]
  },
  {
   "cell_type": "code",
   "execution_count": null,
   "id": "6cd77367",
   "metadata": {},
   "outputs": [],
   "source": [
    "particleNetMD_Xbb = secondjet.particleNetMD_Xbb\n",
    "particleNetMD_Xcc = secondjet.particleNetMD_Xcc\n",
    "particleNetMD_Xqq = secondjet.particleNetMD_Xqq\n",
    "particleNetMD_QCD = secondjet.particleNetMD_QCD\n",
    "\n",
    "plt.hist(particleNetMD_Xbb,histtype='step',bins=bins,label='Xbb');\n",
    "plt.hist(particleNetMD_Xcc,histtype='step',bins=bins,label='Xcc');\n",
    "plt.hist(particleNetMD_Xqq,histtype='step',bins=bins,label='Xqq');\n",
    "plt.hist(particleNetMD_QCD,histtype='step',bins=bins,label='QCD');\n",
    "plt.legend(frameon=False)\n",
    "plt.xlabel('particleNetMD')"
   ]
  },
  {
   "cell_type": "code",
   "execution_count": null,
   "id": "405c2c03",
   "metadata": {},
   "outputs": [],
   "source": [
    "check_not_none(particleNetMD_Xbb / (1 - particleNetMD_Xcc - particleNetMD_Xqq))\n",
    "check_not_none(particleNetMD_Xcc / (1 - particleNetMD_Xbb - particleNetMD_Xqq))\n",
    "check_not_none(particleNetMD_Xqq / (1 - particleNetMD_Xbb - particleNetMD_Xcc))\n",
    "\n",
    "plt.hist(particleNetMD_Xbb / (1 - particleNetMD_Xcc - particleNetMD_Xqq),histtype='step',bins=bins,label='Xbb');\n",
    "plt.hist(particleNetMD_Xcc / (1 - particleNetMD_Xbb - particleNetMD_Xqq),histtype='step',bins=bins,label='Xcc');\n",
    "plt.hist(particleNetMD_Xqq / (1 - particleNetMD_Xbb - particleNetMD_Xcc),histtype='step',bins=bins,label='Xqq');\n",
    "#plt.hist(particleNetMD_QCD / (particleNetMD_Xbb + particleNetMD_QCD + particleNetMD_Xcc + particleNetMD_Xqq),histtype='step',bins=bins,label='QCD');\n",
    "plt.legend(frameon=False)\n",
    "plt.xlabel('Transformed particleNetMD')"
   ]
  },
  {
   "cell_type": "code",
   "execution_count": null,
   "id": "a5856d57",
   "metadata": {},
   "outputs": [],
   "source": [
    "plt.hist(secondjet.particleNet_WvsQCD,histtype='step',bins=bins,label='WvsQCD');\n",
    "plt.hist(secondjet.particleNet_ZvsQCD,histtype='step',bins=bins,label='ZvsQCD');\n",
    "plt.legend(frameon=False)\n",
    "plt.xlabel('particleNet')"
   ]
  },
  {
   "cell_type": "code",
   "execution_count": null,
   "id": "46a5cb76",
   "metadata": {},
   "outputs": [],
   "source": [
    "candidatejet_diff = return_not_none(candidatejet.pt) - return_not_none(candidatejet_old.pt)\n",
    "plt.hist(candidatejet_diff)"
   ]
  },
  {
   "cell_type": "code",
   "execution_count": null,
   "id": "3a7a395d",
   "metadata": {},
   "outputs": [],
   "source": [
    "secondjet_diff = return_not_none(secondjet.pt) - return_not_none(secondjet_old.pt)\n",
    "plt.hist(secondjet_diff)"
   ]
  },
  {
   "cell_type": "code",
   "execution_count": null,
   "id": "b7f1276c",
   "metadata": {},
   "outputs": [],
   "source": []
  }
 ],
 "metadata": {
  "kernelspec": {
   "display_name": "Python 3 (ipykernel)",
   "language": "python",
   "name": "python3"
  },
  "language_info": {
   "codemirror_mode": {
    "name": "ipython",
    "version": 3
   },
   "file_extension": ".py",
   "mimetype": "text/x-python",
   "name": "python",
   "nbconvert_exporter": "python",
   "pygments_lexer": "ipython3",
   "version": "3.10.8"
  }
 },
 "nbformat": 4,
 "nbformat_minor": 5
}
