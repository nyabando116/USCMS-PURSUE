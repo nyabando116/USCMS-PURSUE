{
 "cells": [
  {
   "cell_type": "code",
   "execution_count": null,
   "id": "f9ac1932-ad03-4b2f-b5ed-80a803ba4379",
   "metadata": {},
   "outputs": [],
   "source": [
    "import awkward as ak\n",
    "import dask\n",
    "import dask_awkward\n",
    "from distributed import performance_report\n",
    "import hist\n",
    "from hist.dask import Hist\n",
    "import json\n",
    "from coffea import processor\n",
    "from coffea.nanoevents import BaseSchema, PFNanoAODSchema, NanoAODSchema\n",
    "from coffea.dataset_tools import apply_to_dataset, apply_to_fileset, preprocess\n",
    "from coffea.dataset_tools import max_chunks, max_files, slice_chunks, slice_files\n",
    "from coffea.analysis_tools import Weights, PackedSelection\n",
    "import matplotlib.pyplot as plt\n",
    "from coffea.nanoevents.methods import vector\n",
    "from coffea.nanoevents import NanoEventsFactory\n",
    "\n",
    "from distributed import Client\n",
    "import fsspec_xrootd\n",
    "import dask.multiprocessing\n",
    "import os"
   ]
  },
  {
   "cell_type": "code",
   "execution_count": null,
   "id": "dbe9d46a-e9f6-4a43-ae5f-d604589f45cb",
   "metadata": {},
   "outputs": [],
   "source": [
    "from msdprocessor import msdProcessor"
   ]
  },
  {
   "cell_type": "code",
   "execution_count": null,
   "id": "e1d76560-99ec-4b29-8319-0d2eb72c8a24",
   "metadata": {},
   "outputs": [],
   "source": [
    "client= Client()\n",
    "client"
   ]
  },
  {
   "cell_type": "code",
   "execution_count": null,
   "id": "7d9cd8c7-f54d-4798-81f3-7039bcc9759f",
   "metadata": {},
   "outputs": [],
   "source": [
    "qcd_slice = \"Pt1000to1400\""
   ]
  },
  {
   "cell_type": "code",
   "execution_count": null,
   "id": "df344aab-d021-4b46-adbc-ec73230e0374",
   "metadata": {},
   "outputs": [],
   "source": [
    "with open(\"2018_QCD_\"+qcd_slice+\".json\", \"rt\") as file:\n",
    "    initial_fileset = json.load(file)"
   ]
  },
  {
   "cell_type": "code",
   "execution_count": null,
   "id": "17fa499b-df66-4a4a-9608-90a9c7a1b493",
   "metadata": {},
   "outputs": [],
   "source": [
    "# print(initial_fileset)"
   ]
  },
  {
   "cell_type": "code",
   "execution_count": null,
   "id": "f6faeea5-5562-486a-b701-7aba8232cbd1",
   "metadata": {
    "scrolled": true
   },
   "outputs": [],
   "source": [
    "files={}\n",
    "for i, j in initial_fileset.items():\n",
    "    print(f\"this is i {i}\")\n",
    "    files[i]={\"files\":{}}\n",
    "    for k in j:\n",
    "        # k = k.replace(\"cmsxrootd.fnal.gov\", \"xcache\")\n",
    "        files[i][\"files\"][k] = \"Events\"\n",
    "        print(f\"this is k {k}\")\n",
    "    "
   ]
  },
  {
   "cell_type": "code",
   "execution_count": null,
   "id": "fbb02c58-3184-4869-9b15-44a7ab1df1bd",
   "metadata": {
    "scrolled": true
   },
   "outputs": [],
   "source": [
    "preprocessed_available, preprocessed_total = preprocess(\n",
    "        files,\n",
    "        step_size=50_000,\n",
    "        align_clusters=None,\n",
    "        skip_bad_files=True,\n",
    "        recalculate_steps=False,\n",
    "        files_per_batch=1,\n",
    "        file_exceptions=(OSError,),\n",
    "        save_form=True,\n",
    "        uproot_options={},\n",
    "        step_size_safety_factor=0.5,\n",
    "    )"
   ]
  },
  {
   "cell_type": "code",
   "execution_count": null,
   "id": "7ae7be5e-7737-4a54-93bc-d5148d887714",
   "metadata": {
    "scrolled": true
   },
   "outputs": [],
   "source": [
    "print(preprocessed_available.keys())"
   ]
  },
  {
   "cell_type": "code",
   "execution_count": null,
   "id": "39c8c528-70ac-4516-8f5c-d61f7931c255",
   "metadata": {},
   "outputs": [],
   "source": [
    "import gzip, pickle, json\n",
    "output_file = \"scaleout_fileset\"\n",
    "with gzip.open(f\"{output_file}_available.json.gz\", \"wt\") as file:\n",
    "    json.dump(preprocessed_available, file, indent=2)\n",
    "    print(f\"Saved available fileset chunks to {output_file}_available.json.gz\")\n",
    "with gzip.open(f\"{output_file}_all.json.gz\", \"wt\") as file:\n",
    "    json.dump(preprocessed_total, file, indent=2)\n",
    "    print(f\"Saved complete fileset chunks to {output_file}_all.json.gz\")"
   ]
  },
  {
   "cell_type": "code",
   "execution_count": null,
   "id": "46cdacf6-fca5-4091-972f-2c2fd5fb1aa9",
   "metadata": {},
   "outputs": [],
   "source": [
    "test_preprocessed_files = max_files(preprocessed_available, 10)\n",
    "test_preprocessed = max_chunks(test_preprocessed_files, 30)"
   ]
  },
  {
   "cell_type": "code",
   "execution_count": null,
   "id": "f726e6e9-5e71-4e15-a5ba-ecd69a094408",
   "metadata": {
    "scrolled": true
   },
   "outputs": [],
   "source": [
    "print(test_preprocessed_files)"
   ]
  },
  {
   "cell_type": "code",
   "execution_count": null,
   "id": "6c9ddc03-6eee-4432-a33e-38502aa65d85",
   "metadata": {},
   "outputs": [],
   "source": [
    "compute, results = apply_to_fileset(data_manipulation=msdProcessor(),    \n",
    "                            fileset=test_preprocessed_files,\n",
    "                            schemaclass=PFNanoAODSchema,\n",
    "                            uproot_options={\"allow_read_errors_with_report\": (OSError, KeyError)},\n",
    "                           )"
   ]
  },
  {
   "cell_type": "code",
   "execution_count": null,
   "id": "ad9dd4f4-a41e-43a0-ae06-ba3f8e3ff87e",
   "metadata": {
    "scrolled": true
   },
   "outputs": [],
   "source": [
    "compute_results=dask.compute(compute)"
   ]
  },
  {
   "cell_type": "code",
   "execution_count": null,
   "id": "2e4e0d33-dab9-4a51-a950-c6b70c11138f",
   "metadata": {},
   "outputs": [],
   "source": [
    "print(compute_results)"
   ]
  },
  {
   "cell_type": "code",
   "execution_count": null,
   "id": "373b8c33-aa79-4545-9e91-08368d2fdeef",
   "metadata": {},
   "outputs": [],
   "source": [
    "util.save(compute_results, \"coffea/QCD_\"+qcd_slice+\".coffea\")"
   ]
  }
 ],
 "metadata": {
  "kernelspec": {
   "display_name": "Python 3 (ipykernel)",
   "language": "python",
   "name": "python3"
  },
  "language_info": {
   "codemirror_mode": {
    "name": "ipython",
    "version": 3
   },
   "file_extension": ".py",
   "mimetype": "text/x-python",
   "name": "python",
   "nbconvert_exporter": "python",
   "pygments_lexer": "ipython3",
   "version": "3.12.3"
  }
 },
 "nbformat": 4,
 "nbformat_minor": 5
}
